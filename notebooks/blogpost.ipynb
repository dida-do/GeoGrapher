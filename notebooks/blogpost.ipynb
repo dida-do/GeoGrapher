{
 "cells": [
  {
   "cell_type": "markdown",
   "metadata": {},
   "source": [
    "# Taking GeoGrapher for a Spin\n",
    "\n",
    "Let us see how we can use GeoGrapher to a build a toy example dataset of stadiums.\n",
    "You can download the file `stadiums.geojson` containing the stadiums from ([link](https://github.com/dida-do/GeoGrapher/tree/main/notebooks/stadiums.geojson)).\n",
    "\n",
    "## 1. Creating an Empty Dataset\n",
    "\n",
    "First, we import geographer, as well as some other imports we will need."
   ]
  },
  {
   "cell_type": "code",
   "execution_count": 5,
   "metadata": {},
   "outputs": [],
   "source": [
    "import geographer as gg\n",
    "import geopandas as gpd\n",
    "from pathlib import Path"
   ]
  },
  {
   "cell_type": "markdown",
   "metadata": {},
   "source": [
    "The GeoGrapher library is built around the `Connector` class. A connector organizes a dataset of raster and vector data keeping track of the containment and intersection relations between raster and vector features. To create an empty dataset, we use the `from_scratch` factory method:"
   ]
  },
  {
   "cell_type": "code",
   "execution_count": 14,
   "metadata": {},
   "outputs": [],
   "source": [
    "from geographer import Connector\n",
    "\n",
    "DATA_DIR = Path(\"gg_example_dataset_blogpost\")\n",
    "\n",
    "connector = Connector.from_scratch(\n",
    "    data_dir=DATA_DIR,\n",
    "    task_vector_classes=[\"stadium\"],\n",
    ")"
   ]
  },
  {
   "cell_type": "markdown",
   "metadata": {},
   "source": [
    "This creates a connector with a dataset in `DATA_DIR`.\n",
    "\n",
    "The most important attributes of a connector are its `vectors` and `rasters` attributes. The `vectors` GeoDataFrame contains the vector geometries of the stadiums as well as tabular information about the stadiums (name, country, etc). The `rasters` GeoDataFrame contains as geometries the bounding boxes of the rasters in our dataset as well as tabular information about the rasters (e.g. raster name, date, etc). Of course, both GeoDataFrames are still empty. Let us change that. \n",
    "\n",
    "Let's try adding our stadiums to the `vectors`. You can find the example geojson file in [https://github.com/dida-do/GeoGrapher/blob/main/notebooks/stadiums_binary.geojson](https://github.com/dida-do/GeoGrapher/blob/main/notebooks/stadiums_binary.geojson)."
   ]
  },
  {
   "cell_type": "code",
   "execution_count": 7,
   "metadata": {},
   "outputs": [
    {
     "data": {
      "text/html": [
       "<div>\n",
       "<style scoped>\n",
       "    .dataframe tbody tr th:only-of-type {\n",
       "        vertical-align: middle;\n",
       "    }\n",
       "\n",
       "    .dataframe tbody tr th {\n",
       "        vertical-align: top;\n",
       "    }\n",
       "\n",
       "    .dataframe thead th {\n",
       "        text-align: right;\n",
       "    }\n",
       "</style>\n",
       "<table border=\"1\" class=\"dataframe\">\n",
       "  <thead>\n",
       "    <tr style=\"text-align: right;\">\n",
       "      <th></th>\n",
       "      <th>location</th>\n",
       "      <th>type</th>\n",
       "      <th>geometry</th>\n",
       "    </tr>\n",
       "    <tr>\n",
       "      <th>vector_name</th>\n",
       "      <th></th>\n",
       "      <th></th>\n",
       "      <th></th>\n",
       "    </tr>\n",
       "  </thead>\n",
       "  <tbody>\n",
       "    <tr>\n",
       "      <th>Munich Olympiastadion</th>\n",
       "      <td>Munich, Germany</td>\n",
       "      <td>stadium</td>\n",
       "      <td>POLYGON Z ((11.54677 48.17472 0.00000, 11.5446...</td>\n",
       "    </tr>\n",
       "    <tr>\n",
       "      <th>Munich Track and Field Stadium1</th>\n",
       "      <td>Munich, Germany</td>\n",
       "      <td>stadium</td>\n",
       "      <td>POLYGON Z ((11.54382 48.17279 0.00000, 11.5438...</td>\n",
       "    </tr>\n",
       "    <tr>\n",
       "      <th>Munich Olympia Track and Field2</th>\n",
       "      <td>Munich, Germany</td>\n",
       "      <td>stadium</td>\n",
       "      <td>POLYGON Z ((11.54686 48.17892 0.00000, 11.5468...</td>\n",
       "    </tr>\n",
       "    <tr>\n",
       "      <th>Munich Staedtisches Stadion Dantestr</th>\n",
       "      <td>Munich, Germany</td>\n",
       "      <td>stadium</td>\n",
       "      <td>POLYGON Z ((11.52913 48.16874 0.00000, 11.5291...</td>\n",
       "    </tr>\n",
       "    <tr>\n",
       "      <th>Vasil Levski National Stadium</th>\n",
       "      <td>Sofia, Bulgaria</td>\n",
       "      <td>stadium</td>\n",
       "      <td>POLYGON Z ((23.33410 42.68813 0.00000, 23.3340...</td>\n",
       "    </tr>\n",
       "    <tr>\n",
       "      <th>Bulgarian Army Stadium</th>\n",
       "      <td>Sofia, Bulgaria</td>\n",
       "      <td>stadium</td>\n",
       "      <td>POLYGON Z ((23.34065 42.68492 0.00000, 23.3406...</td>\n",
       "    </tr>\n",
       "    <tr>\n",
       "      <th>Arena Sofia</th>\n",
       "      <td>Sofia, Bulgaria</td>\n",
       "      <td>stadium</td>\n",
       "      <td>POLYGON Z ((23.34018 42.68318 0.00000, 23.3401...</td>\n",
       "    </tr>\n",
       "    <tr>\n",
       "      <th>Jingu Baseball Stadium</th>\n",
       "      <td>Tokyo, Japan</td>\n",
       "      <td>stadium</td>\n",
       "      <td>POLYGON Z ((139.71597 35.67490 0.00000, 139.71...</td>\n",
       "    </tr>\n",
       "    <tr>\n",
       "      <th>Japan National Stadium</th>\n",
       "      <td>Tokyo, Japan</td>\n",
       "      <td>stadium</td>\n",
       "      <td>POLYGON Z ((139.71482 35.67644 0.00000, 139.71...</td>\n",
       "    </tr>\n",
       "  </tbody>\n",
       "</table>\n",
       "</div>"
      ],
      "text/plain": [
       "                                             location     type  \\\n",
       "vector_name                                                      \n",
       "Munich Olympiastadion                 Munich, Germany  stadium   \n",
       "Munich Track and Field Stadium1       Munich, Germany  stadium   \n",
       "Munich Olympia Track and Field2       Munich, Germany  stadium   \n",
       "Munich Staedtisches Stadion Dantestr  Munich, Germany  stadium   \n",
       "Vasil Levski National Stadium         Sofia, Bulgaria  stadium   \n",
       "Bulgarian Army Stadium                Sofia, Bulgaria  stadium   \n",
       "Arena Sofia                           Sofia, Bulgaria  stadium   \n",
       "Jingu Baseball Stadium                   Tokyo, Japan  stadium   \n",
       "Japan National Stadium                   Tokyo, Japan  stadium   \n",
       "\n",
       "                                                                               geometry  \n",
       "vector_name                                                                              \n",
       "Munich Olympiastadion                 POLYGON Z ((11.54677 48.17472 0.00000, 11.5446...  \n",
       "Munich Track and Field Stadium1       POLYGON Z ((11.54382 48.17279 0.00000, 11.5438...  \n",
       "Munich Olympia Track and Field2       POLYGON Z ((11.54686 48.17892 0.00000, 11.5468...  \n",
       "Munich Staedtisches Stadion Dantestr  POLYGON Z ((11.52913 48.16874 0.00000, 11.5291...  \n",
       "Vasil Levski National Stadium         POLYGON Z ((23.33410 42.68813 0.00000, 23.3340...  \n",
       "Bulgarian Army Stadium                POLYGON Z ((23.34065 42.68492 0.00000, 23.3406...  \n",
       "Arena Sofia                           POLYGON Z ((23.34018 42.68318 0.00000, 23.3401...  \n",
       "Jingu Baseball Stadium                POLYGON Z ((139.71597 35.67490 0.00000, 139.71...  \n",
       "Japan National Stadium                POLYGON Z ((139.71482 35.67644 0.00000, 139.71...  "
      ]
     },
     "execution_count": 7,
     "metadata": {},
     "output_type": "execute_result"
    }
   ],
   "source": [
    "stadiums = gpd.read_file(\"stadiums_binary.geojson\")\n",
    "stadiums = stadiums.set_index(\"vector_name\")\n",
    "stadiums"
   ]
  },
  {
   "cell_type": "markdown",
   "metadata": {},
   "source": [
    "Now, we can integrate the vector features into the dataset, i.e. into the connector:"
   ]
  },
  {
   "cell_type": "code",
   "execution_count": 8,
   "metadata": {},
   "outputs": [],
   "source": [
    "connector.add_to_vectors(stadiums)"
   ]
  },
  {
   "cell_type": "markdown",
   "metadata": {},
   "source": [
    "We see that the stadiums have been added to the connector:"
   ]
  },
  {
   "cell_type": "code",
   "execution_count": 9,
   "metadata": {},
   "outputs": [
    {
     "data": {
      "text/html": [
       "<div>\n",
       "<style scoped>\n",
       "    .dataframe tbody tr th:only-of-type {\n",
       "        vertical-align: middle;\n",
       "    }\n",
       "\n",
       "    .dataframe tbody tr th {\n",
       "        vertical-align: top;\n",
       "    }\n",
       "\n",
       "    .dataframe thead th {\n",
       "        text-align: right;\n",
       "    }\n",
       "</style>\n",
       "<table border=\"1\" class=\"dataframe\">\n",
       "  <thead>\n",
       "    <tr style=\"text-align: right;\">\n",
       "      <th></th>\n",
       "      <th>geometry</th>\n",
       "      <th>raster_count</th>\n",
       "      <th>location</th>\n",
       "      <th>type</th>\n",
       "    </tr>\n",
       "    <tr>\n",
       "      <th>vector_name</th>\n",
       "      <th></th>\n",
       "      <th></th>\n",
       "      <th></th>\n",
       "      <th></th>\n",
       "    </tr>\n",
       "  </thead>\n",
       "  <tbody>\n",
       "    <tr>\n",
       "      <th>Munich Olympiastadion</th>\n",
       "      <td>POLYGON Z ((11.54677 48.17472 0.00000, 11.5446...</td>\n",
       "      <td>0</td>\n",
       "      <td>Munich, Germany</td>\n",
       "      <td>stadium</td>\n",
       "    </tr>\n",
       "    <tr>\n",
       "      <th>Munich Track and Field Stadium1</th>\n",
       "      <td>POLYGON Z ((11.54382 48.17279 0.00000, 11.5438...</td>\n",
       "      <td>0</td>\n",
       "      <td>Munich, Germany</td>\n",
       "      <td>stadium</td>\n",
       "    </tr>\n",
       "    <tr>\n",
       "      <th>Munich Olympia Track and Field2</th>\n",
       "      <td>POLYGON Z ((11.54686 48.17892 0.00000, 11.5468...</td>\n",
       "      <td>0</td>\n",
       "      <td>Munich, Germany</td>\n",
       "      <td>stadium</td>\n",
       "    </tr>\n",
       "    <tr>\n",
       "      <th>Munich Staedtisches Stadion Dantestr</th>\n",
       "      <td>POLYGON Z ((11.52913 48.16874 0.00000, 11.5291...</td>\n",
       "      <td>0</td>\n",
       "      <td>Munich, Germany</td>\n",
       "      <td>stadium</td>\n",
       "    </tr>\n",
       "    <tr>\n",
       "      <th>Vasil Levski National Stadium</th>\n",
       "      <td>POLYGON Z ((23.33410 42.68813 0.00000, 23.3340...</td>\n",
       "      <td>0</td>\n",
       "      <td>Sofia, Bulgaria</td>\n",
       "      <td>stadium</td>\n",
       "    </tr>\n",
       "    <tr>\n",
       "      <th>Bulgarian Army Stadium</th>\n",
       "      <td>POLYGON Z ((23.34065 42.68492 0.00000, 23.3406...</td>\n",
       "      <td>0</td>\n",
       "      <td>Sofia, Bulgaria</td>\n",
       "      <td>stadium</td>\n",
       "    </tr>\n",
       "    <tr>\n",
       "      <th>Arena Sofia</th>\n",
       "      <td>POLYGON Z ((23.34018 42.68318 0.00000, 23.3401...</td>\n",
       "      <td>0</td>\n",
       "      <td>Sofia, Bulgaria</td>\n",
       "      <td>stadium</td>\n",
       "    </tr>\n",
       "    <tr>\n",
       "      <th>Jingu Baseball Stadium</th>\n",
       "      <td>POLYGON Z ((139.71597 35.67490 0.00000, 139.71...</td>\n",
       "      <td>0</td>\n",
       "      <td>Tokyo, Japan</td>\n",
       "      <td>stadium</td>\n",
       "    </tr>\n",
       "    <tr>\n",
       "      <th>Japan National Stadium</th>\n",
       "      <td>POLYGON Z ((139.71482 35.67644 0.00000, 139.71...</td>\n",
       "      <td>0</td>\n",
       "      <td>Tokyo, Japan</td>\n",
       "      <td>stadium</td>\n",
       "    </tr>\n",
       "  </tbody>\n",
       "</table>\n",
       "</div>"
      ],
      "text/plain": [
       "                                                                               geometry  \\\n",
       "vector_name                                                                               \n",
       "Munich Olympiastadion                 POLYGON Z ((11.54677 48.17472 0.00000, 11.5446...   \n",
       "Munich Track and Field Stadium1       POLYGON Z ((11.54382 48.17279 0.00000, 11.5438...   \n",
       "Munich Olympia Track and Field2       POLYGON Z ((11.54686 48.17892 0.00000, 11.5468...   \n",
       "Munich Staedtisches Stadion Dantestr  POLYGON Z ((11.52913 48.16874 0.00000, 11.5291...   \n",
       "Vasil Levski National Stadium         POLYGON Z ((23.33410 42.68813 0.00000, 23.3340...   \n",
       "Bulgarian Army Stadium                POLYGON Z ((23.34065 42.68492 0.00000, 23.3406...   \n",
       "Arena Sofia                           POLYGON Z ((23.34018 42.68318 0.00000, 23.3401...   \n",
       "Jingu Baseball Stadium                POLYGON Z ((139.71597 35.67490 0.00000, 139.71...   \n",
       "Japan National Stadium                POLYGON Z ((139.71482 35.67644 0.00000, 139.71...   \n",
       "\n",
       "                                      raster_count         location     type  \n",
       "vector_name                                                                   \n",
       "Munich Olympiastadion                            0  Munich, Germany  stadium  \n",
       "Munich Track and Field Stadium1                  0  Munich, Germany  stadium  \n",
       "Munich Olympia Track and Field2                  0  Munich, Germany  stadium  \n",
       "Munich Staedtisches Stadion Dantestr             0  Munich, Germany  stadium  \n",
       "Vasil Levski National Stadium                    0  Sofia, Bulgaria  stadium  \n",
       "Bulgarian Army Stadium                           0  Sofia, Bulgaria  stadium  \n",
       "Arena Sofia                                      0  Sofia, Bulgaria  stadium  \n",
       "Jingu Baseball Stadium                           0     Tokyo, Japan  stadium  \n",
       "Japan National Stadium                           0     Tokyo, Japan  stadium  "
      ]
     },
     "execution_count": 9,
     "metadata": {},
     "output_type": "execute_result"
    }
   ],
   "source": [
    "connector.vectors"
   ]
  },
  {
   "cell_type": "markdown",
   "metadata": {},
   "source": [
    "# 3. Downloading Rasters for the Vector Data\n",
    "\n",
    "To download rasters for the stadiums, we define a downloader:"
   ]
  },
  {
   "cell_type": "code",
   "execution_count": 10,
   "metadata": {},
   "outputs": [],
   "source": [
    "from geographer.downloaders import (\n",
    "    RasterDownloaderForVectors,\n",
    "    SentinelDownloaderForSingleVector,\n",
    "    Sentinel2Processor,\n",
    ")\n",
    "\n",
    "downloader_for_single_vector = SentinelDownloaderForSingleVector()\n",
    "download_processor = Sentinel2Processor()\n",
    "\n",
    "downloader = RasterDownloaderForVectors(\n",
    "    downloader_for_single_vector=downloader_for_single_vector,\n",
    "    download_processor=download_processor,\n",
    ")"
   ]
  },
  {
   "cell_type": "markdown",
   "metadata": {},
   "source": [
    "To use the Copernicus SciHub API we need to a username and password. You can sign up for an account [here](https://scihub.copernicus.eu/dhus/#/self-registration). The password and username will be assumed to be stored in a .ini file."
   ]
  },
  {
   "cell_type": "code",
   "execution_count": 11,
   "metadata": {},
   "outputs": [],
   "source": [
    "credentials_ini_path = Path(\"copernicus_scihub_credentials.ini\")"
   ]
  },
  {
   "cell_type": "markdown",
   "metadata": {},
   "source": [
    "The contents of the ini file should look as follows:"
   ]
  },
  {
   "cell_type": "code",
   "execution_count": null,
   "metadata": {},
   "outputs": [],
   "source": [
    "[login]\n",
    "username = your_username\n",
    "password = your_password"
   ]
  },
  {
   "cell_type": "markdown",
   "metadata": {},
   "source": [
    "To download rasters and add them to our dataset we then run the following command."
   ]
  },
  {
   "cell_type": "code",
   "execution_count": null,
   "metadata": {},
   "outputs": [],
   "source": [
    "downloader.download(\n",
    "    connector=connector,\n",
    "    credentials=credentials_ini_path,  # could also directly supply (username, password) tuple\n",
    "    producttype=\"L2A\",\n",
    "    max_percent_cloud_coverage=10,\n",
    "    resolution=10,  # resolution of extracted GeoTiff\n",
    "    date=(\"NOW-364DAYS\", \"NOW\"),\n",
    "    area_relation=\"Contains\",\n",
    ")"
   ]
  },
  {
   "cell_type": "markdown",
   "metadata": {},
   "source": [
    " The `rasters` attribute now contains information about the rasters:"
   ]
  },
  {
   "cell_type": "code",
   "execution_count": 15,
   "metadata": {},
   "outputs": [
    {
     "data": {
      "text/html": [
       "<div>\n",
       "<style scoped>\n",
       "    .dataframe tbody tr th:only-of-type {\n",
       "        vertical-align: middle;\n",
       "    }\n",
       "\n",
       "    .dataframe tbody tr th {\n",
       "        vertical-align: top;\n",
       "    }\n",
       "\n",
       "    .dataframe thead th {\n",
       "        text-align: right;\n",
       "    }\n",
       "</style>\n",
       "<table border=\"1\" class=\"dataframe\">\n",
       "  <thead>\n",
       "    <tr style=\"text-align: right;\">\n",
       "      <th></th>\n",
       "      <th>raster_processed?</th>\n",
       "      <th>timestamp</th>\n",
       "      <th>orig_crs_epsg_code</th>\n",
       "      <th>geometry</th>\n",
       "    </tr>\n",
       "    <tr>\n",
       "      <th>raster_name</th>\n",
       "      <th></th>\n",
       "      <th></th>\n",
       "      <th></th>\n",
       "      <th></th>\n",
       "    </tr>\n",
       "  </thead>\n",
       "  <tbody>\n",
       "    <tr>\n",
       "      <th>S2A_MSIL2A_20220627T100611_N0400_R022_T32UPU_20220627T162810.tif</th>\n",
       "      <td>True</td>\n",
       "      <td>2022-06-27-10:06:11</td>\n",
       "      <td>32632</td>\n",
       "      <td>POLYGON ((11.79809 47.73104, 11.85244 48.71769...</td>\n",
       "    </tr>\n",
       "    <tr>\n",
       "      <th>S2A_MSIL2A_20220412T012701_N0400_R074_T54SUE_20220412T042315.tif</th>\n",
       "      <td>True</td>\n",
       "      <td>2022-04-12-01:27:01</td>\n",
       "      <td>32654</td>\n",
       "      <td>POLYGON ((140.00972 35.15084, 139.99743 36.140...</td>\n",
       "    </tr>\n",
       "    <tr>\n",
       "      <th>S2A_MSIL2A_20220722T092041_N0400_R093_T34TFN_20220722T134859.tif</th>\n",
       "      <td>True</td>\n",
       "      <td>2022-07-22-09:20:41</td>\n",
       "      <td>32634</td>\n",
       "      <td>POLYGON ((23.54663 42.33578, 23.58754 43.32358...</td>\n",
       "    </tr>\n",
       "  </tbody>\n",
       "</table>\n",
       "</div>"
      ],
      "text/plain": [
       "                                                    raster_processed?  \\\n",
       "raster_name                                                             \n",
       "S2A_MSIL2A_20220627T100611_N0400_R022_T32UPU_20...               True   \n",
       "S2A_MSIL2A_20220412T012701_N0400_R074_T54SUE_20...               True   \n",
       "S2A_MSIL2A_20220722T092041_N0400_R093_T34TFN_20...               True   \n",
       "\n",
       "                                                              timestamp  \\\n",
       "raster_name                                                               \n",
       "S2A_MSIL2A_20220627T100611_N0400_R022_T32UPU_20...  2022-06-27-10:06:11   \n",
       "S2A_MSIL2A_20220412T012701_N0400_R074_T54SUE_20...  2022-04-12-01:27:01   \n",
       "S2A_MSIL2A_20220722T092041_N0400_R093_T34TFN_20...  2022-07-22-09:20:41   \n",
       "\n",
       "                                                    orig_crs_epsg_code  \\\n",
       "raster_name                                                              \n",
       "S2A_MSIL2A_20220627T100611_N0400_R022_T32UPU_20...               32632   \n",
       "S2A_MSIL2A_20220412T012701_N0400_R074_T54SUE_20...               32654   \n",
       "S2A_MSIL2A_20220722T092041_N0400_R093_T34TFN_20...               32634   \n",
       "\n",
       "                                                                                             geometry  \n",
       "raster_name                                                                                            \n",
       "S2A_MSIL2A_20220627T100611_N0400_R022_T32UPU_20...  POLYGON ((11.79809 47.73104, 11.85244 48.71769...  \n",
       "S2A_MSIL2A_20220412T012701_N0400_R074_T54SUE_20...  POLYGON ((140.00972 35.15084, 139.99743 36.140...  \n",
       "S2A_MSIL2A_20220722T092041_N0400_R093_T34TFN_20...  POLYGON ((23.54663 42.33578, 23.58754 43.32358...  "
      ]
     },
     "execution_count": 15,
     "metadata": {},
     "output_type": "execute_result"
    }
   ],
   "source": [
    "connector.rasters"
   ]
  },
  {
   "cell_type": "markdown",
   "metadata": {},
   "source": [
    "The connector keeps track of the containment and intersection relations between vector features and rasters in the form of an internal bipartite graph. We can ask questions about this graph, such as which rasters contain (or intersect) a given vector feature (stadium):"
   ]
  },
  {
   "cell_type": "code",
   "execution_count": 16,
   "metadata": {},
   "outputs": [
    {
     "name": "stdout",
     "output_type": "stream",
     "text": [
      "rasters containing Munich Olympiastadion:\n",
      "['S2A_MSIL2A_20220627T100611_N0400_R022_T32UPU_20220627T162810.tif'] \n",
      "\n",
      "vector features (stadiums) intersecting S2A_MSIL2A_20220627T100611_N0400_R022_T32UPU_20220627T162810.tif:\n",
      "['Munich Track and Field Stadium1', 'Munich Olympiastadion', 'Munich Olympia Track and Field2', 'Munich Staedtisches Stadion Dantestr']\n"
     ]
    }
   ],
   "source": [
    "# rasters containing a vector feature\n",
    "vector_name = \"Munich Olympiastadion\"\n",
    "containing_rasters = connector.rasters_containing_vector(vector_name)\n",
    "print(f\"rasters containing {vector_name}:\\n{containing_rasters} \\n\")\n",
    "\n",
    "# vector features intersecting a raster\n",
    "raster_name = containing_rasters[0]\n",
    "intersecting_vectors = connector.vectors_intersecting_raster(raster_name)\n",
    "print(f\"vector features (stadiums) intersecting {raster_name}:\\n{intersecting_vectors}\")"
   ]
  },
  {
   "cell_type": "markdown",
   "metadata": {},
   "source": [
    "We can now create a dataset of cutouts around each stadium."
   ]
  },
  {
   "cell_type": "code",
   "execution_count": 17,
   "metadata": {},
   "outputs": [
    {
     "name": "stderr",
     "output_type": "stream",
     "text": [
      "Cutting dataset: : 0it [00:00, ?it/s]\n"
     ]
    }
   ],
   "source": [
    "from geographer.cutters import get_cutter_rasters_around_every_vector\n",
    "\n",
    "IMG_SIZE = 512\n",
    "TARGET_DATA_DIR = Path(f\"gg_example_dataset_cutouts{IMG_SIZE}\")\n",
    "\n",
    "cutter = get_cutter_rasters_around_every_vector(\n",
    "    source_data_dir=DATA_DIR,\n",
    "    target_data_dir=TARGET_DATA_DIR,\n",
    "    name=\"example_cutter\",  # for saving\n",
    "    new_raster_size=IMG_SIZE,  # in pixels\n",
    "    bands={\"rasters\": [1, 2, 3]},  # we only want the RGB (or BGR for Sentinel-2) bands\n",
    ")\n",
    "target_connector = cutter.cut()"
   ]
  },
  {
   "cell_type": "markdown",
   "metadata": {},
   "source": [
    "And finally, we can create segmentation labels (masks) for our new dataset:"
   ]
  },
  {
   "cell_type": "code",
   "execution_count": 18,
   "metadata": {},
   "outputs": [
    {
     "name": "stderr",
     "output_type": "stream",
     "text": [
      "Making labels: : 0it [00:00, ?it/s]\n"
     ]
    }
   ],
   "source": [
    "from geographer.label_makers import SegLabelMakerCategorical\n",
    "\n",
    "label_maker = SegLabelMakerCategorical()\n",
    "label_maker.make_labels(connector=target_connector)"
   ]
  }
 ],
 "metadata": {
  "kernelspec": {
   "display_name": "Python 3.10.4 ('geographer-env': venv)",
   "language": "python",
   "name": "python3"
  },
  "language_info": {
   "codemirror_mode": {
    "name": "ipython",
    "version": 3
   },
   "file_extension": ".py",
   "mimetype": "text/x-python",
   "name": "python",
   "nbconvert_exporter": "python",
   "pygments_lexer": "ipython3",
   "version": "3.10.6"
  },
  "orig_nbformat": 4,
  "vscode": {
   "interpreter": {
    "hash": "417695322628ebe4d15024c42edb1a1ecd50032de54e997d6970bb3b2684b0d2"
   }
  }
 },
 "nbformat": 4,
 "nbformat_minor": 2
}
