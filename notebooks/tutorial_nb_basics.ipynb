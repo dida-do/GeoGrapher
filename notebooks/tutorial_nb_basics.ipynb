{
 "cells": [
  {
   "cell_type": "markdown",
   "metadata": {},
   "source": [
    "# GeoGrapher tutorial - the basics\n",
    "\n",
    "This tutorial shows how to use GeoGrapher to create a remote sensing dataset\n",
    "from vector data. If you are reading the html version in the documentation\n",
    "and would prefer the actual ipynb file you can find it\n",
    "[here](https://github.com/dida-do/GeoGrapher/tree/main/notebooks/tutorial_nb_basics.ipynb).\n",
    "As vector data, we will use bounding boxes for sports stadiums.\n",
    "You can download the file `stadiums.geojson` containing the vector data from [here](https://github.com/dida-do/GeoGrapher/tree/main/notebooks/stadiums.geojson).\n",
    "\n",
    "Contents:\n",
    "\n",
    "1. Creating an empty dataset\n",
    "2. Adding vector data\n",
    "3. Downloading rasters for the vector data\n",
    "4. Opening and saving a connector\n",
    "\n",
    "## 1. Creating an empty dataset\n",
    "\n",
    "First, we import geographer, as well as some other imports we will need."
   ]
  },
  {
   "cell_type": "code",
   "execution_count": 1,
   "metadata": {},
   "outputs": [],
   "source": [
    "import geographer as gg\n",
    "import geopandas as gpd\n",
    "from pathlib import Path"
   ]
  },
  {
   "cell_type": "markdown",
   "metadata": {},
   "source": [
    "The GeoGrapher library is built around the `Connector` class. A connector organizes a dataset of raster and vector data. To create an empty dataset, we use the `from_scratch` factory method:\n",
    "\n",
    "The connector keeps track of the containment and intersection relations between raster and vector data in a bipartite graph. See our blogpost for a detailed explanation of why we want to keep track of this information."
   ]
  },
  {
   "cell_type": "code",
   "execution_count": 2,
   "metadata": {},
   "outputs": [],
   "source": [
    "from geographer import Connector\n",
    "\n",
    "DATA_DIR = Path(\"gg_example_dataset\")\n",
    "\n",
    "connector = Connector.from_scratch(\n",
    "    data_dir=DATA_DIR,\n",
    "    task_vector_classes=[\"football\", \"baseball\"],\n",
    ")"
   ]
  },
  {
   "cell_type": "markdown",
   "metadata": {},
   "source": [
    "This creates a connector with a dataset in `DATA_DIR`.\n",
    "\n",
    "The `task_vector_classes` argument defines the classes that objects can belong to for multi-class segmentation. It is used when creating labels (see [this tutorial notebook](https://github.com/dida-do/GeoGrapher/tree/main/notebooks/tutorial_nb_cut_label_cluster.ipynb)). It is optional and at this not important here.\n",
    "\n",
    "The most important attributes of a connector are its `rasters` and `vectors` attributes. These are geopandas GeoDataFrames. The `vectors` GeoDataFrame contains the vector geometries of the stadiums as well as tabular information about the stadiums (name, country, etc). It also contains an `\"raster_count\"` column, which we will explain later. The `rasters` GeoDataFrame contains as geometries the bounding boxes of the rasters in our dataset as well as tabular information about the rasters (e.g. raster name, date, etc)."
   ]
  },
  {
   "cell_type": "code",
   "execution_count": 4,
   "metadata": {},
   "outputs": [
    {
     "data": {
      "text/html": [
       "<div>\n",
       "<style scoped>\n",
       "    .dataframe tbody tr th:only-of-type {\n",
       "        vertical-align: middle;\n",
       "    }\n",
       "\n",
       "    .dataframe tbody tr th {\n",
       "        vertical-align: top;\n",
       "    }\n",
       "\n",
       "    .dataframe thead th {\n",
       "        text-align: right;\n",
       "    }\n",
       "</style>\n",
       "<table border=\"1\" class=\"dataframe\">\n",
       "  <thead>\n",
       "    <tr style=\"text-align: right;\">\n",
       "      <th></th>\n",
       "      <th>geometry</th>\n",
       "      <th>raster_count</th>\n",
       "    </tr>\n",
       "    <tr>\n",
       "      <th>vector_name</th>\n",
       "      <th></th>\n",
       "      <th></th>\n",
       "    </tr>\n",
       "  </thead>\n",
       "  <tbody>\n",
       "  </tbody>\n",
       "</table>\n",
       "</div>"
      ],
      "text/plain": [
       "Empty GeoDataFrame\n",
       "Columns: [geometry, raster_count]\n",
       "Index: []"
      ]
     },
     "execution_count": 4,
     "metadata": {},
     "output_type": "execute_result"
    }
   ],
   "source": [
    "connector.vectors"
   ]
  },
  {
   "cell_type": "markdown",
   "metadata": {},
   "source": []
  },
  {
   "cell_type": "code",
   "execution_count": 5,
   "metadata": {},
   "outputs": [
    {
     "data": {
      "text/html": [
       "<div>\n",
       "<style scoped>\n",
       "    .dataframe tbody tr th:only-of-type {\n",
       "        vertical-align: middle;\n",
       "    }\n",
       "\n",
       "    .dataframe tbody tr th {\n",
       "        vertical-align: top;\n",
       "    }\n",
       "\n",
       "    .dataframe thead th {\n",
       "        text-align: right;\n",
       "    }\n",
       "</style>\n",
       "<table border=\"1\" class=\"dataframe\">\n",
       "  <thead>\n",
       "    <tr style=\"text-align: right;\">\n",
       "      <th></th>\n",
       "      <th>geometry</th>\n",
       "    </tr>\n",
       "    <tr>\n",
       "      <th>raster_name</th>\n",
       "      <th></th>\n",
       "    </tr>\n",
       "  </thead>\n",
       "  <tbody>\n",
       "  </tbody>\n",
       "</table>\n",
       "</div>"
      ],
      "text/plain": [
       "Empty GeoDataFrame\n",
       "Columns: [geometry]\n",
       "Index: []"
      ]
     },
     "execution_count": 5,
     "metadata": {},
     "output_type": "execute_result"
    }
   ],
   "source": [
    "connector.rasters"
   ]
  },
  {
   "cell_type": "markdown",
   "metadata": {},
   "source": [
    "As you can see both GeoDataFrames are empty. \n",
    "\n",
    "## 2. Adding vector data\n",
    "Let's try adding our stadiums to the `vectors`. \n",
    "\n",
    "First, we read a GeoDataFrame containing the vector data from disk. You can download the example geojson file [here](https://github.com/dida-do/GeoGrapher/tree/main/notebooks/stadiums.geojson)."
   ]
  },
  {
   "cell_type": "code",
   "execution_count": 6,
   "metadata": {},
   "outputs": [
    {
     "data": {
      "text/html": [
       "<div>\n",
       "<style scoped>\n",
       "    .dataframe tbody tr th:only-of-type {\n",
       "        vertical-align: middle;\n",
       "    }\n",
       "\n",
       "    .dataframe tbody tr th {\n",
       "        vertical-align: top;\n",
       "    }\n",
       "\n",
       "    .dataframe thead th {\n",
       "        text-align: right;\n",
       "    }\n",
       "</style>\n",
       "<table border=\"1\" class=\"dataframe\">\n",
       "  <thead>\n",
       "    <tr style=\"text-align: right;\">\n",
       "      <th></th>\n",
       "      <th>vector_name</th>\n",
       "      <th>location</th>\n",
       "      <th>type</th>\n",
       "      <th>geometry</th>\n",
       "    </tr>\n",
       "  </thead>\n",
       "  <tbody>\n",
       "    <tr>\n",
       "      <th>0</th>\n",
       "      <td>Munich Olympiastadion</td>\n",
       "      <td>Munich, Germany</td>\n",
       "      <td>football</td>\n",
       "      <td>POLYGON Z ((11.54677 48.17472 0.00000, 11.5446...</td>\n",
       "    </tr>\n",
       "    <tr>\n",
       "      <th>1</th>\n",
       "      <td>Munich Track and Field Stadium1</td>\n",
       "      <td>Munich, Germany</td>\n",
       "      <td>football</td>\n",
       "      <td>POLYGON Z ((11.54382 48.17279 0.00000, 11.5438...</td>\n",
       "    </tr>\n",
       "    <tr>\n",
       "      <th>2</th>\n",
       "      <td>Munich Olympia Track and Field2</td>\n",
       "      <td>Munich, Germany</td>\n",
       "      <td>football</td>\n",
       "      <td>POLYGON Z ((11.54686 48.17892 0.00000, 11.5468...</td>\n",
       "    </tr>\n",
       "    <tr>\n",
       "      <th>3</th>\n",
       "      <td>Munich Staedtisches Stadion Dantestr</td>\n",
       "      <td>Munich, Germany</td>\n",
       "      <td>football</td>\n",
       "      <td>POLYGON Z ((11.52913 48.16874 0.00000, 11.5291...</td>\n",
       "    </tr>\n",
       "    <tr>\n",
       "      <th>4</th>\n",
       "      <td>Vasil Levski National Stadium</td>\n",
       "      <td>Sofia, Bulgaria</td>\n",
       "      <td>football</td>\n",
       "      <td>POLYGON Z ((23.33410 42.68813 0.00000, 23.3340...</td>\n",
       "    </tr>\n",
       "    <tr>\n",
       "      <th>5</th>\n",
       "      <td>Bulgarian Army Stadium</td>\n",
       "      <td>Sofia, Bulgaria</td>\n",
       "      <td>football</td>\n",
       "      <td>POLYGON Z ((23.34065 42.68492 0.00000, 23.3406...</td>\n",
       "    </tr>\n",
       "    <tr>\n",
       "      <th>6</th>\n",
       "      <td>Arena Sofia</td>\n",
       "      <td>Sofia, Bulgaria</td>\n",
       "      <td>football</td>\n",
       "      <td>POLYGON Z ((23.34018 42.68318 0.00000, 23.3401...</td>\n",
       "    </tr>\n",
       "    <tr>\n",
       "      <th>7</th>\n",
       "      <td>Jingu Baseball Stadium</td>\n",
       "      <td>Tokyo, Japan</td>\n",
       "      <td>baseball</td>\n",
       "      <td>POLYGON Z ((139.71597 35.67490 0.00000, 139.71...</td>\n",
       "    </tr>\n",
       "    <tr>\n",
       "      <th>8</th>\n",
       "      <td>Japan National Stadium</td>\n",
       "      <td>Tokyo, Japan</td>\n",
       "      <td>football</td>\n",
       "      <td>POLYGON Z ((139.71482 35.67644 0.00000, 139.71...</td>\n",
       "    </tr>\n",
       "  </tbody>\n",
       "</table>\n",
       "</div>"
      ],
      "text/plain": [
       "                            vector_name         location      type  \\\n",
       "0                 Munich Olympiastadion  Munich, Germany  football   \n",
       "1       Munich Track and Field Stadium1  Munich, Germany  football   \n",
       "2       Munich Olympia Track and Field2  Munich, Germany  football   \n",
       "3  Munich Staedtisches Stadion Dantestr  Munich, Germany  football   \n",
       "4         Vasil Levski National Stadium  Sofia, Bulgaria  football   \n",
       "5                Bulgarian Army Stadium  Sofia, Bulgaria  football   \n",
       "6                           Arena Sofia  Sofia, Bulgaria  football   \n",
       "7                Jingu Baseball Stadium     Tokyo, Japan  baseball   \n",
       "8                Japan National Stadium     Tokyo, Japan  football   \n",
       "\n",
       "                                            geometry  \n",
       "0  POLYGON Z ((11.54677 48.17472 0.00000, 11.5446...  \n",
       "1  POLYGON Z ((11.54382 48.17279 0.00000, 11.5438...  \n",
       "2  POLYGON Z ((11.54686 48.17892 0.00000, 11.5468...  \n",
       "3  POLYGON Z ((11.52913 48.16874 0.00000, 11.5291...  \n",
       "4  POLYGON Z ((23.33410 42.68813 0.00000, 23.3340...  \n",
       "5  POLYGON Z ((23.34065 42.68492 0.00000, 23.3406...  \n",
       "6  POLYGON Z ((23.34018 42.68318 0.00000, 23.3401...  \n",
       "7  POLYGON Z ((139.71597 35.67490 0.00000, 139.71...  \n",
       "8  POLYGON Z ((139.71482 35.67644 0.00000, 139.71...  "
      ]
     },
     "execution_count": 6,
     "metadata": {},
     "output_type": "execute_result"
    }
   ],
   "source": [
    "stadiums = gpd.read_file(\"stadiums.geojson\")\n",
    "stadiums"
   ]
  },
  {
   "cell_type": "markdown",
   "metadata": {},
   "source": [
    "It will be convenient to set the index to the vector_name column:\n",
    "TODO EXPLAIN WHY? DO WE NEEDS INDEX TO BE STRINGS?"
   ]
  },
  {
   "cell_type": "code",
   "execution_count": 7,
   "metadata": {},
   "outputs": [
    {
     "data": {
      "text/html": [
       "<div>\n",
       "<style scoped>\n",
       "    .dataframe tbody tr th:only-of-type {\n",
       "        vertical-align: middle;\n",
       "    }\n",
       "\n",
       "    .dataframe tbody tr th {\n",
       "        vertical-align: top;\n",
       "    }\n",
       "\n",
       "    .dataframe thead th {\n",
       "        text-align: right;\n",
       "    }\n",
       "</style>\n",
       "<table border=\"1\" class=\"dataframe\">\n",
       "  <thead>\n",
       "    <tr style=\"text-align: right;\">\n",
       "      <th></th>\n",
       "      <th>location</th>\n",
       "      <th>geometry</th>\n",
       "    </tr>\n",
       "    <tr>\n",
       "      <th>vector_name</th>\n",
       "      <th></th>\n",
       "      <th></th>\n",
       "    </tr>\n",
       "  </thead>\n",
       "  <tbody>\n",
       "    <tr>\n",
       "      <th>Munich Olympiastadion</th>\n",
       "      <td>Munich, Germany</td>\n",
       "      <td>POLYGON Z ((11.54677 48.17472 0.00000, 11.5446...</td>\n",
       "    </tr>\n",
       "    <tr>\n",
       "      <th>Munich Track and Field Stadium1</th>\n",
       "      <td>Munich, Germany</td>\n",
       "      <td>POLYGON Z ((11.54382 48.17279 0.00000, 11.5438...</td>\n",
       "    </tr>\n",
       "    <tr>\n",
       "      <th>Munich Olympia Track and Field2</th>\n",
       "      <td>Munich, Germany</td>\n",
       "      <td>POLYGON Z ((11.54686 48.17892 0.00000, 11.5468...</td>\n",
       "    </tr>\n",
       "    <tr>\n",
       "      <th>Munich Staedtisches Stadion Dantestr</th>\n",
       "      <td>Munich, Germany</td>\n",
       "      <td>POLYGON Z ((11.52913 48.16874 0.00000, 11.5291...</td>\n",
       "    </tr>\n",
       "    <tr>\n",
       "      <th>Vasil Levski National Stadium</th>\n",
       "      <td>Sofia, Bulgaria</td>\n",
       "      <td>POLYGON Z ((23.33410 42.68813 0.00000, 23.3340...</td>\n",
       "    </tr>\n",
       "    <tr>\n",
       "      <th>Bulgarian Army Stadium</th>\n",
       "      <td>Sofia, Bulgaria</td>\n",
       "      <td>POLYGON Z ((23.34065 42.68492 0.00000, 23.3406...</td>\n",
       "    </tr>\n",
       "    <tr>\n",
       "      <th>Arena Sofia</th>\n",
       "      <td>Sofia, Bulgaria</td>\n",
       "      <td>POLYGON Z ((23.34018 42.68318 0.00000, 23.3401...</td>\n",
       "    </tr>\n",
       "    <tr>\n",
       "      <th>Jingu Baseball Stadium</th>\n",
       "      <td>Tokyo, Japan</td>\n",
       "      <td>POLYGON Z ((139.71597 35.67490 0.00000, 139.71...</td>\n",
       "    </tr>\n",
       "    <tr>\n",
       "      <th>Japan National Stadium</th>\n",
       "      <td>Tokyo, Japan</td>\n",
       "      <td>POLYGON Z ((139.71482 35.67644 0.00000, 139.71...</td>\n",
       "    </tr>\n",
       "  </tbody>\n",
       "</table>\n",
       "</div>"
      ],
      "text/plain": [
       "                                             location  \\\n",
       "vector_name                                             \n",
       "Munich Olympiastadion                 Munich, Germany   \n",
       "Munich Track and Field Stadium1       Munich, Germany   \n",
       "Munich Olympia Track and Field2       Munich, Germany   \n",
       "Munich Staedtisches Stadion Dantestr  Munich, Germany   \n",
       "Vasil Levski National Stadium         Sofia, Bulgaria   \n",
       "Bulgarian Army Stadium                Sofia, Bulgaria   \n",
       "Arena Sofia                           Sofia, Bulgaria   \n",
       "Jingu Baseball Stadium                   Tokyo, Japan   \n",
       "Japan National Stadium                   Tokyo, Japan   \n",
       "\n",
       "                                                                               geometry  \n",
       "vector_name                                                                              \n",
       "Munich Olympiastadion                 POLYGON Z ((11.54677 48.17472 0.00000, 11.5446...  \n",
       "Munich Track and Field Stadium1       POLYGON Z ((11.54382 48.17279 0.00000, 11.5438...  \n",
       "Munich Olympia Track and Field2       POLYGON Z ((11.54686 48.17892 0.00000, 11.5468...  \n",
       "Munich Staedtisches Stadion Dantestr  POLYGON Z ((11.52913 48.16874 0.00000, 11.5291...  \n",
       "Vasil Levski National Stadium         POLYGON Z ((23.33410 42.68813 0.00000, 23.3340...  \n",
       "Bulgarian Army Stadium                POLYGON Z ((23.34065 42.68492 0.00000, 23.3406...  \n",
       "Arena Sofia                           POLYGON Z ((23.34018 42.68318 0.00000, 23.3401...  \n",
       "Jingu Baseball Stadium                POLYGON Z ((139.71597 35.67490 0.00000, 139.71...  \n",
       "Japan National Stadium                POLYGON Z ((139.71482 35.67644 0.00000, 139.71...  "
      ]
     },
     "execution_count": 7,
     "metadata": {},
     "output_type": "execute_result"
    }
   ],
   "source": [
    "stadiums = stadiums.set_index(\"vector_name\")\n",
    "stadiums"
   ]
  },
  {
   "cell_type": "markdown",
   "metadata": {},
   "source": [
    "Now, we can integrate the vector features into the dataset, i.e. into the connector:"
   ]
  },
  {
   "cell_type": "code",
   "execution_count": 12,
   "metadata": {},
   "outputs": [],
   "source": [
    "connector.add_to_vectors(stadiums)"
   ]
  },
  {
   "cell_type": "markdown",
   "metadata": {},
   "source": [
    "The stadiums have now been added to the connector's `vectors` GeoDataFrame:"
   ]
  },
  {
   "cell_type": "code",
   "execution_count": 13,
   "metadata": {},
   "outputs": [
    {
     "data": {
      "text/html": [
       "<div>\n",
       "<style scoped>\n",
       "    .dataframe tbody tr th:only-of-type {\n",
       "        vertical-align: middle;\n",
       "    }\n",
       "\n",
       "    .dataframe tbody tr th {\n",
       "        vertical-align: top;\n",
       "    }\n",
       "\n",
       "    .dataframe thead th {\n",
       "        text-align: right;\n",
       "    }\n",
       "</style>\n",
       "<table border=\"1\" class=\"dataframe\">\n",
       "  <thead>\n",
       "    <tr style=\"text-align: right;\">\n",
       "      <th></th>\n",
       "      <th>geometry</th>\n",
       "      <th>raster_count</th>\n",
       "      <th>location</th>\n",
       "    </tr>\n",
       "    <tr>\n",
       "      <th>vector_name</th>\n",
       "      <th></th>\n",
       "      <th></th>\n",
       "      <th></th>\n",
       "    </tr>\n",
       "  </thead>\n",
       "  <tbody>\n",
       "    <tr>\n",
       "      <th>Munich Olympiastadion</th>\n",
       "      <td>POLYGON Z ((11.54677 48.17472 0.00000, 11.5446...</td>\n",
       "      <td>0</td>\n",
       "      <td>Munich, Germany</td>\n",
       "    </tr>\n",
       "    <tr>\n",
       "      <th>Munich Track and Field Stadium1</th>\n",
       "      <td>POLYGON Z ((11.54382 48.17279 0.00000, 11.5438...</td>\n",
       "      <td>0</td>\n",
       "      <td>Munich, Germany</td>\n",
       "    </tr>\n",
       "    <tr>\n",
       "      <th>Munich Olympia Track and Field2</th>\n",
       "      <td>POLYGON Z ((11.54686 48.17892 0.00000, 11.5468...</td>\n",
       "      <td>0</td>\n",
       "      <td>Munich, Germany</td>\n",
       "    </tr>\n",
       "    <tr>\n",
       "      <th>Munich Staedtisches Stadion Dantestr</th>\n",
       "      <td>POLYGON Z ((11.52913 48.16874 0.00000, 11.5291...</td>\n",
       "      <td>0</td>\n",
       "      <td>Munich, Germany</td>\n",
       "    </tr>\n",
       "    <tr>\n",
       "      <th>Vasil Levski National Stadium</th>\n",
       "      <td>POLYGON Z ((23.33410 42.68813 0.00000, 23.3340...</td>\n",
       "      <td>0</td>\n",
       "      <td>Sofia, Bulgaria</td>\n",
       "    </tr>\n",
       "    <tr>\n",
       "      <th>Bulgarian Army Stadium</th>\n",
       "      <td>POLYGON Z ((23.34065 42.68492 0.00000, 23.3406...</td>\n",
       "      <td>0</td>\n",
       "      <td>Sofia, Bulgaria</td>\n",
       "    </tr>\n",
       "    <tr>\n",
       "      <th>Arena Sofia</th>\n",
       "      <td>POLYGON Z ((23.34018 42.68318 0.00000, 23.3401...</td>\n",
       "      <td>0</td>\n",
       "      <td>Sofia, Bulgaria</td>\n",
       "    </tr>\n",
       "    <tr>\n",
       "      <th>Jingu Baseball Stadium</th>\n",
       "      <td>POLYGON Z ((139.71597 35.67490 0.00000, 139.71...</td>\n",
       "      <td>0</td>\n",
       "      <td>Tokyo, Japan</td>\n",
       "    </tr>\n",
       "    <tr>\n",
       "      <th>Japan National Stadium</th>\n",
       "      <td>POLYGON Z ((139.71482 35.67644 0.00000, 139.71...</td>\n",
       "      <td>0</td>\n",
       "      <td>Tokyo, Japan</td>\n",
       "    </tr>\n",
       "  </tbody>\n",
       "</table>\n",
       "</div>"
      ],
      "text/plain": [
       "                                                                               geometry  \\\n",
       "vector_name                                                                               \n",
       "Munich Olympiastadion                 POLYGON Z ((11.54677 48.17472 0.00000, 11.5446...   \n",
       "Munich Track and Field Stadium1       POLYGON Z ((11.54382 48.17279 0.00000, 11.5438...   \n",
       "Munich Olympia Track and Field2       POLYGON Z ((11.54686 48.17892 0.00000, 11.5468...   \n",
       "Munich Staedtisches Stadion Dantestr  POLYGON Z ((11.52913 48.16874 0.00000, 11.5291...   \n",
       "Vasil Levski National Stadium         POLYGON Z ((23.33410 42.68813 0.00000, 23.3340...   \n",
       "Bulgarian Army Stadium                POLYGON Z ((23.34065 42.68492 0.00000, 23.3406...   \n",
       "Arena Sofia                           POLYGON Z ((23.34018 42.68318 0.00000, 23.3401...   \n",
       "Jingu Baseball Stadium                POLYGON Z ((139.71597 35.67490 0.00000, 139.71...   \n",
       "Japan National Stadium                POLYGON Z ((139.71482 35.67644 0.00000, 139.71...   \n",
       "\n",
       "                                      raster_count         location  \n",
       "vector_name                                                          \n",
       "Munich Olympiastadion                            0  Munich, Germany  \n",
       "Munich Track and Field Stadium1                  0  Munich, Germany  \n",
       "Munich Olympia Track and Field2                  0  Munich, Germany  \n",
       "Munich Staedtisches Stadion Dantestr             0  Munich, Germany  \n",
       "Vasil Levski National Stadium                    0  Sofia, Bulgaria  \n",
       "Bulgarian Army Stadium                           0  Sofia, Bulgaria  \n",
       "Arena Sofia                                      0  Sofia, Bulgaria  \n",
       "Jingu Baseball Stadium                           0     Tokyo, Japan  \n",
       "Japan National Stadium                           0     Tokyo, Japan  "
      ]
     },
     "execution_count": 13,
     "metadata": {},
     "output_type": "execute_result"
    }
   ],
   "source": [
    "connector.vectors"
   ]
  },
  {
   "cell_type": "markdown",
   "metadata": {},
   "source": [
    "## 3. Downloading rasters for the vector data\n",
    "\n",
    "To download rasters for the stadiums, we use the `RasterDownloaderForVectors`. This class needs to be passed a `DownloaderForSingleVector` to interface with the particular data source for our rasters, and a `RasterDownloadProcessor` to process the downloaded files. In this example, we would like to download Sentinel-2, so we choose the `SentinelDownloaderForSingleVector` to interface with [Copernicus Open Access Hub](https://scihub.copernicus.eu/) and the Sentinel2Processor to process the downloaded zipped .SAFE files to GeoTiff files (see [here](https://sentinels.copernicus.eu/web/sentinel/user-guides/sentinel-2-msi/data-formats) for an explanation of the Sentinel-2 data format). The GeoTiff format is a georeferenced version for remote sensing raster data of the Tiff format for normal rasters.\n",
    "\n",
    "Here, we define the downloader:"
   ]
  },
  {
   "cell_type": "code",
   "execution_count": 14,
   "metadata": {},
   "outputs": [],
   "source": [
    "from geographer.downloaders import (\n",
    "    RasterDownloaderForVectors,\n",
    "    SentinelDownloaderForSingleVector,\n",
    "    Sentinel2Processor,\n",
    ")\n",
    "\n",
    "downloader_for_single_vector = SentinelDownloaderForSingleVector()\n",
    "download_processor = Sentinel2Processor()\n",
    "\n",
    "downloader = RasterDownloaderForVectors(\n",
    "    downloader_for_single_vector=downloader_for_single_vector,\n",
    "    download_processor=download_processor,\n",
    ")"
   ]
  },
  {
   "cell_type": "markdown",
   "metadata": {},
   "source": [
    "To use the Copernicus SciHub API we need to a username and password. You can sign up for an account [here](https://scihub.copernicus.eu/dhus/#/self-registration). The password and username will be assumed to be stored in a .ini file. The format of the file should be as follows."
   ]
  },
  {
   "cell_type": "code",
   "execution_count": 15,
   "metadata": {},
   "outputs": [],
   "source": [
    "credentials_ini_path = DATA_DIR / \"copernicus_scihub_credentials.ini\""
   ]
  },
  {
   "cell_type": "markdown",
   "metadata": {},
   "source": [
    "To download rasters and add them to our dataset we then run the following command."
   ]
  },
  {
   "cell_type": "code",
   "execution_count": 14,
   "metadata": {},
   "outputs": [
    {
     "data": {
      "application/json": {
       "ascii": false,
       "bar_format": null,
       "colour": null,
       "elapsed": 0.012549161911010742,
       "initial": 0,
       "n": 0,
       "ncols": null,
       "nrows": null,
       "postfix": null,
       "prefix": "",
       "rate": null,
       "total": null,
       "unit": "it",
       "unit_divisor": 1000,
       "unit_scale": false
      },
      "application/vnd.jupyter.widget-view+json": {
       "model_id": "49609d1c9ed54b2ea363aa5aaf0a8977",
       "version_major": 2,
       "version_minor": 0
      },
      "text/plain": [
       "0it [00:00, ?it/s]"
      ]
     },
     "metadata": {},
     "output_type": "display_data"
    },
    {
     "data": {
      "application/json": {
       "ascii": false,
       "bar_format": null,
       "colour": null,
       "elapsed": 0.013243436813354492,
       "initial": 0,
       "n": 0,
       "ncols": null,
       "nrows": null,
       "postfix": null,
       "prefix": "Downloading S2A_MSIL2A_20220722T092041_N0400_R093_T34TFN_20220722T134859.zip",
       "rate": null,
       "total": 1175647784,
       "unit": "B",
       "unit_divisor": 1000,
       "unit_scale": true
      },
      "application/vnd.jupyter.widget-view+json": {
       "model_id": "af177746b9bf48909e2d5d742ba07492",
       "version_major": 2,
       "version_minor": 0
      },
      "text/plain": [
       "Downloading S2A_MSIL2A_20220722T092041_N0400_R093_T34TFN_20220722T134859.zip:   0%|          | 0.00/1.18G [00:…"
      ]
     },
     "metadata": {},
     "output_type": "display_data"
    },
    {
     "data": {
      "application/json": {
       "ascii": false,
       "bar_format": null,
       "colour": null,
       "elapsed": 0.012036561965942383,
       "initial": 0,
       "n": 0,
       "ncols": null,
       "nrows": null,
       "postfix": null,
       "prefix": "MD5 checksumming",
       "rate": null,
       "total": 1175647784,
       "unit": "B",
       "unit_divisor": 1000,
       "unit_scale": true
      },
      "application/vnd.jupyter.widget-view+json": {
       "model_id": "30a5aed258d543a7a0adf5c8e4b124d8",
       "version_major": 2,
       "version_minor": 0
      },
      "text/plain": [
       "MD5 checksumming:   0%|          | 0.00/1.18G [00:00<?, ?B/s]"
      ]
     },
     "metadata": {},
     "output_type": "display_data"
    },
    {
     "name": "stderr",
     "output_type": "stream",
     "text": [
      "2022-09-21 22:50:49,613 - geographer.downloaders.sentinel2_safe_unpacking - INFO - Using all zero band for gml mask ('CLOUDS', 'B00') for S2A_MSIL2A_20220722T092041_N0400_R093_T34TFN_20220722T134859.SAFE\n"
     ]
    },
    {
     "data": {
      "application/json": {
       "ascii": false,
       "bar_format": null,
       "colour": null,
       "elapsed": 0.011292695999145508,
       "initial": 0,
       "n": 0,
       "ncols": null,
       "nrows": null,
       "postfix": null,
       "prefix": "Downloading S2A_MSIL2A_20220413T092031_N0400_R093_T34TFN_20220413T123632.zip",
       "rate": null,
       "total": 1225614957,
       "unit": "B",
       "unit_divisor": 1000,
       "unit_scale": true
      },
      "application/vnd.jupyter.widget-view+json": {
       "model_id": "f54b16f78cbb412ab64e45dc2878edb1",
       "version_major": 2,
       "version_minor": 0
      },
      "text/plain": [
       "Downloading S2A_MSIL2A_20220413T092031_N0400_R093_T34TFN_20220413T123632.zip:   0%|          | 0.00/1.23G [00:…"
      ]
     },
     "metadata": {},
     "output_type": "display_data"
    },
    {
     "data": {
      "application/json": {
       "ascii": false,
       "bar_format": null,
       "colour": null,
       "elapsed": 0.008117914199829102,
       "initial": 0,
       "n": 0,
       "ncols": null,
       "nrows": null,
       "postfix": null,
       "prefix": "MD5 checksumming",
       "rate": null,
       "total": 1225614957,
       "unit": "B",
       "unit_divisor": 1000,
       "unit_scale": true
      },
      "application/vnd.jupyter.widget-view+json": {
       "model_id": "6efed81c3dfa416b8926182c3d12ec4e",
       "version_major": 2,
       "version_minor": 0
      },
      "text/plain": [
       "MD5 checksumming:   0%|          | 0.00/1.23G [00:00<?, ?B/s]"
      ]
     },
     "metadata": {},
     "output_type": "display_data"
    },
    {
     "name": "stderr",
     "output_type": "stream",
     "text": [
      "2022-09-21 22:57:35,719 - geographer.downloaders.sentinel2_safe_unpacking - INFO - Using all zero band for gml mask ('CLOUDS', 'B00') for S2A_MSIL2A_20220413T092031_N0400_R093_T34TFN_20220413T123632.SAFE\n"
     ]
    },
    {
     "data": {
      "application/json": {
       "ascii": false,
       "bar_format": null,
       "colour": null,
       "elapsed": 0.011886358261108398,
       "initial": 0,
       "n": 0,
       "ncols": null,
       "nrows": null,
       "postfix": null,
       "prefix": "Downloading S2A_MSIL2A_20220627T100611_N0400_R022_T32UPU_20220627T162810.zip",
       "rate": null,
       "total": 966707371,
       "unit": "B",
       "unit_divisor": 1000,
       "unit_scale": true
      },
      "application/vnd.jupyter.widget-view+json": {
       "model_id": "cffe58b6b99f4c7a8d73245b5d197eb7",
       "version_major": 2,
       "version_minor": 0
      },
      "text/plain": [
       "Downloading S2A_MSIL2A_20220627T100611_N0400_R022_T32UPU_20220627T162810.zip:   0%|          | 0.00/967M [00:0…"
      ]
     },
     "metadata": {},
     "output_type": "display_data"
    },
    {
     "data": {
      "application/json": {
       "ascii": false,
       "bar_format": null,
       "colour": null,
       "elapsed": 0.014061450958251953,
       "initial": 0,
       "n": 0,
       "ncols": null,
       "nrows": null,
       "postfix": null,
       "prefix": "MD5 checksumming",
       "rate": null,
       "total": 966707371,
       "unit": "B",
       "unit_divisor": 1000,
       "unit_scale": true
      },
      "application/vnd.jupyter.widget-view+json": {
       "model_id": "52c11cba48f64d8f91880173db65c147",
       "version_major": 2,
       "version_minor": 0
      },
      "text/plain": [
       "MD5 checksumming:   0%|          | 0.00/967M [00:00<?, ?B/s]"
      ]
     },
     "metadata": {},
     "output_type": "display_data"
    },
    {
     "name": "stderr",
     "output_type": "stream",
     "text": [
      "2022-09-21 23:03:51,514 - geographer.downloaders.sentinel2_safe_unpacking - INFO - Using all zero band for gml mask ('CLOUDS', 'B00') for S2A_MSIL2A_20220627T100611_N0400_R022_T32UPU_20220627T162810.SAFE\n"
     ]
    },
    {
     "data": {
      "application/json": {
       "ascii": false,
       "bar_format": null,
       "colour": null,
       "elapsed": 0.011740684509277344,
       "initial": 0,
       "n": 0,
       "ncols": null,
       "nrows": null,
       "postfix": null,
       "prefix": "Downloading S2B_MSIL2A_20220804T101559_N0400_R065_T32UPU_20220804T130854.zip",
       "rate": null,
       "total": 1211269722,
       "unit": "B",
       "unit_divisor": 1000,
       "unit_scale": true
      },
      "application/vnd.jupyter.widget-view+json": {
       "model_id": "bb66a26452314394a53a1359a08c7f05",
       "version_major": 2,
       "version_minor": 0
      },
      "text/plain": [
       "Downloading S2B_MSIL2A_20220804T101559_N0400_R065_T32UPU_20220804T130854.zip:   0%|          | 0.00/1.21G [00:…"
      ]
     },
     "metadata": {},
     "output_type": "display_data"
    },
    {
     "data": {
      "application/json": {
       "ascii": false,
       "bar_format": null,
       "colour": null,
       "elapsed": 0.009231805801391602,
       "initial": 0,
       "n": 0,
       "ncols": null,
       "nrows": null,
       "postfix": null,
       "prefix": "MD5 checksumming",
       "rate": null,
       "total": 1211269722,
       "unit": "B",
       "unit_divisor": 1000,
       "unit_scale": true
      },
      "application/vnd.jupyter.widget-view+json": {
       "model_id": "8617ea6cda9f41238c8b26244a8c0a50",
       "version_major": 2,
       "version_minor": 0
      },
      "text/plain": [
       "MD5 checksumming:   0%|          | 0.00/1.21G [00:00<?, ?B/s]"
      ]
     },
     "metadata": {},
     "output_type": "display_data"
    },
    {
     "name": "stderr",
     "output_type": "stream",
     "text": [
      "2022-09-21 23:10:43,443 - geographer.downloaders.sentinel2_safe_unpacking - INFO - Using all zero band for gml mask ('CLOUDS', 'B00') for S2B_MSIL2A_20220804T101559_N0400_R065_T32UPU_20220804T130854.SAFE\n"
     ]
    },
    {
     "data": {
      "application/json": {
       "ascii": false,
       "bar_format": null,
       "colour": null,
       "elapsed": 0.01338338851928711,
       "initial": 0,
       "n": 0,
       "ncols": null,
       "nrows": null,
       "postfix": null,
       "prefix": "Downloading S2A_MSIL2A_20220412T012701_N0400_R074_T54SUE_20220412T042315.zip",
       "rate": null,
       "total": 1215170255,
       "unit": "B",
       "unit_divisor": 1000,
       "unit_scale": true
      },
      "application/vnd.jupyter.widget-view+json": {
       "model_id": "2b0cd8b824684cc5a5dcb517b499b186",
       "version_major": 2,
       "version_minor": 0
      },
      "text/plain": [
       "Downloading S2A_MSIL2A_20220412T012701_N0400_R074_T54SUE_20220412T042315.zip:   0%|          | 0.00/1.22G [00:…"
      ]
     },
     "metadata": {},
     "output_type": "display_data"
    },
    {
     "data": {
      "application/json": {
       "ascii": false,
       "bar_format": null,
       "colour": null,
       "elapsed": 0.008530139923095703,
       "initial": 0,
       "n": 0,
       "ncols": null,
       "nrows": null,
       "postfix": null,
       "prefix": "MD5 checksumming",
       "rate": null,
       "total": 1215170255,
       "unit": "B",
       "unit_divisor": 1000,
       "unit_scale": true
      },
      "application/vnd.jupyter.widget-view+json": {
       "model_id": "a04f11e96b804de8a53c3ae2ecde5613",
       "version_major": 2,
       "version_minor": 0
      },
      "text/plain": [
       "MD5 checksumming:   0%|          | 0.00/1.22G [00:00<?, ?B/s]"
      ]
     },
     "metadata": {},
     "output_type": "display_data"
    },
    {
     "name": "stderr",
     "output_type": "stream",
     "text": [
      "2022-09-21 23:17:38,499 - geographer.downloaders.sentinel2_safe_unpacking - INFO - Using all zero band for gml mask ('CLOUDS', 'B00') for S2A_MSIL2A_20220412T012701_N0400_R074_T54SUE_20220412T042315.SAFE\n"
     ]
    },
    {
     "data": {
      "application/json": {
       "ascii": false,
       "bar_format": null,
       "colour": null,
       "elapsed": 0.010659217834472656,
       "initial": 0,
       "n": 0,
       "ncols": null,
       "nrows": null,
       "postfix": null,
       "prefix": "Downloading S2A_MSIL2A_20220701T012711_N0400_R074_T54SUE_20220701T043318.zip",
       "rate": null,
       "total": 1221778270,
       "unit": "B",
       "unit_divisor": 1000,
       "unit_scale": true
      },
      "application/vnd.jupyter.widget-view+json": {
       "model_id": "ca8e0c35e1bb4496ad8bc5c4c9ee69aa",
       "version_major": 2,
       "version_minor": 0
      },
      "text/plain": [
       "Downloading S2A_MSIL2A_20220701T012711_N0400_R074_T54SUE_20220701T043318.zip:   0%|          | 0.00/1.22G [00:…"
      ]
     },
     "metadata": {},
     "output_type": "display_data"
    },
    {
     "data": {
      "application/json": {
       "ascii": false,
       "bar_format": null,
       "colour": null,
       "elapsed": 0.008737325668334961,
       "initial": 0,
       "n": 0,
       "ncols": null,
       "nrows": null,
       "postfix": null,
       "prefix": "MD5 checksumming",
       "rate": null,
       "total": 1221778270,
       "unit": "B",
       "unit_divisor": 1000,
       "unit_scale": true
      },
      "application/vnd.jupyter.widget-view+json": {
       "model_id": "866aa351fa254b689aa17d693e90465b",
       "version_major": 2,
       "version_minor": 0
      },
      "text/plain": [
       "MD5 checksumming:   0%|          | 0.00/1.22G [00:00<?, ?B/s]"
      ]
     },
     "metadata": {},
     "output_type": "display_data"
    },
    {
     "name": "stderr",
     "output_type": "stream",
     "text": [
      "2022-09-21 23:24:31,570 - geographer.downloaders.sentinel2_safe_unpacking - INFO - Using all zero band for gml mask ('CLOUDS', 'B00') for S2A_MSIL2A_20220701T012711_N0400_R074_T54SUE_20220701T043318.SAFE\n"
     ]
    }
   ],
   "source": [
    "downloader.download(\n",
    "    connector=connector,\n",
    "    target_raster_count=2,  # optional, defaults to 1. See explanation below.\n",
    "    credentials=credentials_ini_path,  # could also directly supply (username, password) tuple\n",
    "    producttype=\"L2A\",\n",
    "    max_percent_cloud_coverage=10,\n",
    "    resolution=10,  # resolution of extracted GeoTiff\n",
    "    date=(\"NOW-364DAYS\", \"NOW\"),\n",
    "    area_relation=\"Contains\",\n",
    ")"
   ]
  },
  {
   "cell_type": "markdown",
   "metadata": {},
   "source": [
    "Notice that we set the optional `target_raster_count` which defines the number of distinct rasters each stadium should be contained in to download per argument to 2. The `rasters` attribute now contains information about the rasters:"
   ]
  },
  {
   "cell_type": "code",
   "execution_count": 12,
   "metadata": {},
   "outputs": [
    {
     "data": {
      "text/html": [
       "<div>\n",
       "<style scoped>\n",
       "    .dataframe tbody tr th:only-of-type {\n",
       "        vertical-align: middle;\n",
       "    }\n",
       "\n",
       "    .dataframe tbody tr th {\n",
       "        vertical-align: top;\n",
       "    }\n",
       "\n",
       "    .dataframe thead th {\n",
       "        text-align: right;\n",
       "    }\n",
       "</style>\n",
       "<table border=\"1\" class=\"dataframe\">\n",
       "  <thead>\n",
       "    <tr style=\"text-align: right;\">\n",
       "      <th></th>\n",
       "      <th>raster_processed?</th>\n",
       "      <th>timestamp</th>\n",
       "      <th>orig_crs_epsg_code</th>\n",
       "      <th>geometry</th>\n",
       "    </tr>\n",
       "    <tr>\n",
       "      <th>raster_name</th>\n",
       "      <th></th>\n",
       "      <th></th>\n",
       "      <th></th>\n",
       "      <th></th>\n",
       "    </tr>\n",
       "  </thead>\n",
       "  <tbody>\n",
       "    <tr>\n",
       "      <th>S2A_MSIL2A_20220722T092041_N0400_R093_T34TFN_20220722T134859.tif</th>\n",
       "      <td>True</td>\n",
       "      <td>2022-07-22-09:20:41</td>\n",
       "      <td>32634</td>\n",
       "      <td>POLYGON ((23.54663 42.33578, 23.58754 43.32358...</td>\n",
       "    </tr>\n",
       "    <tr>\n",
       "      <th>S2A_MSIL2A_20220413T092031_N0400_R093_T34TFN_20220413T123632.tif</th>\n",
       "      <td>True</td>\n",
       "      <td>2022-04-13-09:20:31</td>\n",
       "      <td>32634</td>\n",
       "      <td>POLYGON ((23.54663 42.33578, 23.58754 43.32358...</td>\n",
       "    </tr>\n",
       "    <tr>\n",
       "      <th>S2A_MSIL2A_20220627T100611_N0400_R022_T32UPU_20220627T162810.tif</th>\n",
       "      <td>True</td>\n",
       "      <td>2022-06-27-10:06:11</td>\n",
       "      <td>32632</td>\n",
       "      <td>POLYGON ((11.79809 47.73104, 11.85244 48.71769...</td>\n",
       "    </tr>\n",
       "    <tr>\n",
       "      <th>S2B_MSIL2A_20220804T101559_N0400_R065_T32UPU_20220804T130854.tif</th>\n",
       "      <td>True</td>\n",
       "      <td>2022-08-04-10:15:59</td>\n",
       "      <td>32632</td>\n",
       "      <td>POLYGON ((11.79809 47.73104, 11.85244 48.71769...</td>\n",
       "    </tr>\n",
       "    <tr>\n",
       "      <th>S2A_MSIL2A_20220412T012701_N0400_R074_T54SUE_20220412T042315.tif</th>\n",
       "      <td>True</td>\n",
       "      <td>2022-04-12-01:27:01</td>\n",
       "      <td>32654</td>\n",
       "      <td>POLYGON ((140.00972 35.15084, 139.99743 36.140...</td>\n",
       "    </tr>\n",
       "    <tr>\n",
       "      <th>S2A_MSIL2A_20220701T012711_N0400_R074_T54SUE_20220701T043318.tif</th>\n",
       "      <td>True</td>\n",
       "      <td>2022-07-01-01:27:11</td>\n",
       "      <td>32654</td>\n",
       "      <td>POLYGON ((140.00972 35.15084, 139.99743 36.140...</td>\n",
       "    </tr>\n",
       "  </tbody>\n",
       "</table>\n",
       "</div>"
      ],
      "text/plain": [
       "                                                    raster_processed?  \\\n",
       "raster_name                                                             \n",
       "S2A_MSIL2A_20220722T092041_N0400_R093_T34TFN_20...            True   \n",
       "S2A_MSIL2A_20220413T092031_N0400_R093_T34TFN_20...            True   \n",
       "S2A_MSIL2A_20220627T100611_N0400_R022_T32UPU_20...            True   \n",
       "S2B_MSIL2A_20220804T101559_N0400_R065_T32UPU_20...            True   \n",
       "S2A_MSIL2A_20220412T012701_N0400_R074_T54SUE_20...            True   \n",
       "S2A_MSIL2A_20220701T012711_N0400_R074_T54SUE_20...            True   \n",
       "\n",
       "                                                              timestamp  \\\n",
       "raster_name                                                                  \n",
       "S2A_MSIL2A_20220722T092041_N0400_R093_T34TFN_20...  2022-07-22-09:20:41   \n",
       "S2A_MSIL2A_20220413T092031_N0400_R093_T34TFN_20...  2022-04-13-09:20:31   \n",
       "S2A_MSIL2A_20220627T100611_N0400_R022_T32UPU_20...  2022-06-27-10:06:11   \n",
       "S2B_MSIL2A_20220804T101559_N0400_R065_T32UPU_20...  2022-08-04-10:15:59   \n",
       "S2A_MSIL2A_20220412T012701_N0400_R074_T54SUE_20...  2022-04-12-01:27:01   \n",
       "S2A_MSIL2A_20220701T012711_N0400_R074_T54SUE_20...  2022-07-01-01:27:11   \n",
       "\n",
       "                                                    orig_crs_epsg_code  \\\n",
       "raster_name                                                                 \n",
       "S2A_MSIL2A_20220722T092041_N0400_R093_T34TFN_20...               32634   \n",
       "S2A_MSIL2A_20220413T092031_N0400_R093_T34TFN_20...               32634   \n",
       "S2A_MSIL2A_20220627T100611_N0400_R022_T32UPU_20...               32632   \n",
       "S2B_MSIL2A_20220804T101559_N0400_R065_T32UPU_20...               32632   \n",
       "S2A_MSIL2A_20220412T012701_N0400_R074_T54SUE_20...               32654   \n",
       "S2A_MSIL2A_20220701T012711_N0400_R074_T54SUE_20...               32654   \n",
       "\n",
       "                                                                                             geometry  \n",
       "raster_name                                                                                               \n",
       "S2A_MSIL2A_20220722T092041_N0400_R093_T34TFN_20...  POLYGON ((23.54663 42.33578, 23.58754 43.32358...  \n",
       "S2A_MSIL2A_20220413T092031_N0400_R093_T34TFN_20...  POLYGON ((23.54663 42.33578, 23.58754 43.32358...  \n",
       "S2A_MSIL2A_20220627T100611_N0400_R022_T32UPU_20...  POLYGON ((11.79809 47.73104, 11.85244 48.71769...  \n",
       "S2B_MSIL2A_20220804T101559_N0400_R065_T32UPU_20...  POLYGON ((11.79809 47.73104, 11.85244 48.71769...  \n",
       "S2A_MSIL2A_20220412T012701_N0400_R074_T54SUE_20...  POLYGON ((140.00972 35.15084, 139.99743 36.140...  \n",
       "S2A_MSIL2A_20220701T012711_N0400_R074_T54SUE_20...  POLYGON ((140.00972 35.15084, 139.99743 36.140...  "
      ]
     },
     "execution_count": 12,
     "metadata": {},
     "output_type": "execute_result"
    }
   ],
   "source": [
    "connector.rasters"
   ]
  },
  {
   "cell_type": "markdown",
   "metadata": {},
   "source": [
    "Now, let's take another look at the `vectors`. It contains an `\"raster_count\"` column. This column tells us how many rasters each vector feature (i.e. in our case stadium) is fully contained in. Previously, these values were all 0, but now they are all 2. This reflects the value of 2 we passed to the optional `target_raster_count` argument above."
   ]
  },
  {
   "cell_type": "code",
   "execution_count": 29,
   "metadata": {},
   "outputs": [
    {
     "data": {
      "text/html": [
       "<div>\n",
       "<style scoped>\n",
       "    .dataframe tbody tr th:only-of-type {\n",
       "        vertical-align: middle;\n",
       "    }\n",
       "\n",
       "    .dataframe tbody tr th {\n",
       "        vertical-align: top;\n",
       "    }\n",
       "\n",
       "    .dataframe thead th {\n",
       "        text-align: right;\n",
       "    }\n",
       "</style>\n",
       "<table border=\"1\" class=\"dataframe\">\n",
       "  <thead>\n",
       "    <tr style=\"text-align: right;\">\n",
       "      <th></th>\n",
       "      <th>raster_count</th>\n",
       "      <th>location</th>\n",
       "      <th>download_exception</th>\n",
       "      <th>type</th>\n",
       "      <th>geometry</th>\n",
       "    </tr>\n",
       "    <tr>\n",
       "      <th>vector_name</th>\n",
       "      <th></th>\n",
       "      <th></th>\n",
       "      <th></th>\n",
       "      <th></th>\n",
       "      <th></th>\n",
       "    </tr>\n",
       "  </thead>\n",
       "  <tbody>\n",
       "    <tr>\n",
       "      <th>Munich Olympiastadion</th>\n",
       "      <td>2</td>\n",
       "      <td>Munich, Germany</td>\n",
       "      <td>NoImgsForVectorFeatureFoundError('No images fo...</td>\n",
       "      <td>football</td>\n",
       "      <td>POLYGON Z ((11.54677 48.17472 0.00000, 11.5446...</td>\n",
       "    </tr>\n",
       "    <tr>\n",
       "      <th>Munich Track and Field Stadium1</th>\n",
       "      <td>2</td>\n",
       "      <td>Munich, Germany</td>\n",
       "      <td>NoImgsForVectorFeatureFoundError('No images fo...</td>\n",
       "      <td>football</td>\n",
       "      <td>POLYGON Z ((11.54382 48.17279 0.00000, 11.5438...</td>\n",
       "    </tr>\n",
       "    <tr>\n",
       "      <th>Munich Olympia Track and Field2</th>\n",
       "      <td>2</td>\n",
       "      <td>Munich, Germany</td>\n",
       "      <td>NoImgsForVectorFeatureFoundError('No images fo...</td>\n",
       "      <td>football</td>\n",
       "      <td>POLYGON Z ((11.54686 48.17892 0.00000, 11.5468...</td>\n",
       "    </tr>\n",
       "    <tr>\n",
       "      <th>Munich Staedtisches Stadion Dantestr</th>\n",
       "      <td>2</td>\n",
       "      <td>Munich, Germany</td>\n",
       "      <td>NoImgsForVectorFeatureFoundError('No images fo...</td>\n",
       "      <td>football</td>\n",
       "      <td>POLYGON Z ((11.52913 48.16874 0.00000, 11.5291...</td>\n",
       "    </tr>\n",
       "    <tr>\n",
       "      <th>Vasil Levski National Stadium</th>\n",
       "      <td>2</td>\n",
       "      <td>Sofia, Bulgaria</td>\n",
       "      <td>NoImgsForVectorFeatureFoundError('No images fo...</td>\n",
       "      <td>football</td>\n",
       "      <td>POLYGON Z ((23.33410 42.68813 0.00000, 23.3340...</td>\n",
       "    </tr>\n",
       "    <tr>\n",
       "      <th>Bulgarian Army Stadium</th>\n",
       "      <td>2</td>\n",
       "      <td>Sofia, Bulgaria</td>\n",
       "      <td>NoImgsForVectorFeatureFoundError('No images fo...</td>\n",
       "      <td>football</td>\n",
       "      <td>POLYGON Z ((23.34065 42.68492 0.00000, 23.3406...</td>\n",
       "    </tr>\n",
       "    <tr>\n",
       "      <th>Arena Sofia</th>\n",
       "      <td>2</td>\n",
       "      <td>Sofia, Bulgaria</td>\n",
       "      <td>NoImgsForVectorFeatureFoundError('No images fo...</td>\n",
       "      <td>football</td>\n",
       "      <td>POLYGON Z ((23.34018 42.68318 0.00000, 23.3401...</td>\n",
       "    </tr>\n",
       "    <tr>\n",
       "      <th>Jingu Baseball Stadium</th>\n",
       "      <td>2</td>\n",
       "      <td>Tokyo, Japan</td>\n",
       "      <td>NoImgsForVectorFeatureFoundError('No images fo...</td>\n",
       "      <td>baseball</td>\n",
       "      <td>POLYGON Z ((139.71597 35.67490 0.00000, 139.71...</td>\n",
       "    </tr>\n",
       "    <tr>\n",
       "      <th>Japan National Stadium</th>\n",
       "      <td>2</td>\n",
       "      <td>Tokyo, Japan</td>\n",
       "      <td>NoImgsForVectorFeatureFoundError('No images fo...</td>\n",
       "      <td>football</td>\n",
       "      <td>POLYGON Z ((139.71482 35.67644 0.00000, 139.71...</td>\n",
       "    </tr>\n",
       "  </tbody>\n",
       "</table>\n",
       "</div>"
      ],
      "text/plain": [
       "                                      raster_count         location  \\\n",
       "vector_name                                                           \n",
       "Munich Olympiastadion                            2  Munich, Germany   \n",
       "Munich Track and Field Stadium1                  2  Munich, Germany   \n",
       "Munich Olympia Track and Field2                  2  Munich, Germany   \n",
       "Munich Staedtisches Stadion Dantestr             2  Munich, Germany   \n",
       "Vasil Levski National Stadium                    2  Sofia, Bulgaria   \n",
       "Bulgarian Army Stadium                           2  Sofia, Bulgaria   \n",
       "Arena Sofia                                      2  Sofia, Bulgaria   \n",
       "Jingu Baseball Stadium                           2     Tokyo, Japan   \n",
       "Japan National Stadium                           2     Tokyo, Japan   \n",
       "\n",
       "                                                                     download_exception  \\\n",
       "vector_name                                                                               \n",
       "Munich Olympiastadion                 NoImgsForVectorFeatureFoundError('No images fo...   \n",
       "Munich Track and Field Stadium1       NoImgsForVectorFeatureFoundError('No images fo...   \n",
       "Munich Olympia Track and Field2       NoImgsForVectorFeatureFoundError('No images fo...   \n",
       "Munich Staedtisches Stadion Dantestr  NoImgsForVectorFeatureFoundError('No images fo...   \n",
       "Vasil Levski National Stadium         NoImgsForVectorFeatureFoundError('No images fo...   \n",
       "Bulgarian Army Stadium                NoImgsForVectorFeatureFoundError('No images fo...   \n",
       "Arena Sofia                           NoImgsForVectorFeatureFoundError('No images fo...   \n",
       "Jingu Baseball Stadium                NoImgsForVectorFeatureFoundError('No images fo...   \n",
       "Japan National Stadium                NoImgsForVectorFeatureFoundError('No images fo...   \n",
       "\n",
       "                                          type  \\\n",
       "vector_name                                      \n",
       "Munich Olympiastadion                 football   \n",
       "Munich Track and Field Stadium1       football   \n",
       "Munich Olympia Track and Field2       football   \n",
       "Munich Staedtisches Stadion Dantestr  football   \n",
       "Vasil Levski National Stadium         football   \n",
       "Bulgarian Army Stadium                football   \n",
       "Arena Sofia                           football   \n",
       "Jingu Baseball Stadium                baseball   \n",
       "Japan National Stadium                football   \n",
       "\n",
       "                                                                               geometry  \n",
       "vector_name                                                                              \n",
       "Munich Olympiastadion                 POLYGON Z ((11.54677 48.17472 0.00000, 11.5446...  \n",
       "Munich Track and Field Stadium1       POLYGON Z ((11.54382 48.17279 0.00000, 11.5438...  \n",
       "Munich Olympia Track and Field2       POLYGON Z ((11.54686 48.17892 0.00000, 11.5468...  \n",
       "Munich Staedtisches Stadion Dantestr  POLYGON Z ((11.52913 48.16874 0.00000, 11.5291...  \n",
       "Vasil Levski National Stadium         POLYGON Z ((23.33410 42.68813 0.00000, 23.3340...  \n",
       "Bulgarian Army Stadium                POLYGON Z ((23.34065 42.68492 0.00000, 23.3406...  \n",
       "Arena Sofia                           POLYGON Z ((23.34018 42.68318 0.00000, 23.3401...  \n",
       "Jingu Baseball Stadium                POLYGON Z ((139.71597 35.67490 0.00000, 139.71...  \n",
       "Japan National Stadium                POLYGON Z ((139.71482 35.67644 0.00000, 139.71...  "
      ]
     },
     "execution_count": 29,
     "metadata": {},
     "output_type": "execute_result"
    }
   ],
   "source": [
    "connector.vectors"
   ]
  },
  {
   "cell_type": "markdown",
   "metadata": {},
   "source": [
    "The connector keeps track of the containment and intersection relations between vector features and rasters in the form of an internal bipartite graph. We can ask questions about this graph, such as which rasters contain (or intersect) a given vector feature (stadium):"
   ]
  },
  {
   "cell_type": "code",
   "execution_count": 14,
   "metadata": {},
   "outputs": [
    {
     "name": "stdout",
     "output_type": "stream",
     "text": [
      "rasters containing Munich Olympiastadion:\n",
      "['S2A_MSIL2A_20220627T100611_N0400_R022_T32UPU_20220627T162810.tif', 'S2B_MSIL2A_20220804T101559_N0400_R065_T32UPU_20220804T130854.tif'] \n",
      "\n",
      "vector features (stadiums) intersecting S2A_MSIL2A_20220627T100611_N0400_R022_T32UPU_20220627T162810.tif:\n",
      "['Munich Staedtisches Stadion Dantestr', 'Munich Olympia Track and Field2', 'Munich Olympiastadion', 'Munich Track and Field Stadium1']\n"
     ]
    }
   ],
   "source": [
    "# rasters containing a vector feature\n",
    "vector_name = \"Munich Olympiastadion\"\n",
    "containing_rasters = connector.rasters_containing_vector(vector_name)\n",
    "print(f\"rasters containing {vector_name}:\\n{containing_rasters} \\n\")\n",
    "\n",
    "# vector features intersecting a raster\n",
    "raster_name = containing_rasters[0]\n",
    "intersecting_vectors = connector.vectors_intersecting_raster(raster_name)\n",
    "print(f\"vector features (stadiums) intersecting {raster_name}:\\n{intersecting_vectors}\")"
   ]
  },
  {
   "cell_type": "markdown",
   "metadata": {},
   "source": [
    "## 4. Loading and saving a connector\n",
    "\n",
    "To save the connector, we use the `save` method. This will save the connector to the `connector` subdirectory of the connector's `data_dir`:"
   ]
  },
  {
   "cell_type": "code",
   "execution_count": 16,
   "metadata": {},
   "outputs": [],
   "source": [
    "connector.save()"
   ]
  },
  {
   "cell_type": "markdown",
   "metadata": {},
   "source": [
    "In our case, saving the connector wasn't actually neccessary, since the `downloader`'s `download` method automatically saves the connector.\n",
    "\n",
    "To load an existing connector, we use the `from_data_dir` method:"
   ]
  },
  {
   "cell_type": "code",
   "execution_count": null,
   "metadata": {},
   "outputs": [],
   "source": [
    "connector = Connector.from_data_dir(DATA_DIR)"
   ]
  },
  {
   "cell_type": "markdown",
   "metadata": {},
   "source": [
    "To see how to cut this dataset and create labels for it so that we can do ML with it, read through the [Creating a ML dataset tutorial notebook](https://github.com/dida-do/GeoGrapher/tree/main/notebooks/tutorial_nb_cut_label_cluster.ipynb).\n"
   ]
  }
 ],
 "metadata": {
  "kernelspec": {
   "display_name": "Python 3.10.4 ('geographer-env': venv)",
   "language": "python",
   "name": "python3"
  },
  "language_info": {
   "codemirror_mode": {
    "name": "ipython",
    "version": 3
   },
   "file_extension": ".py",
   "mimetype": "text/x-python",
   "name": "python",
   "nbconvert_exporter": "python",
   "pygments_lexer": "ipython3",
   "version": "3.10.6"
  },
  "orig_nbformat": 4,
  "vscode": {
   "interpreter": {
    "hash": "417695322628ebe4d15024c42edb1a1ecd50032de54e997d6970bb3b2684b0d2"
   }
  }
 },
 "nbformat": 4,
 "nbformat_minor": 2
}
