{
 "cells": [
  {
   "cell_type": "markdown",
   "metadata": {},
   "source": [
    "# GeoGrapher tutorial - creating a ML dataset\n",
    "\n",
    "This tutorial shows how to use geographer to create a remote sensing dataset from a dataset of vector data and large raster tiles. We will use the example dataset of stadiums created in the tutorial_nb_basics.ipynb notebook. More advanced examples of the very general cutting capabilities that GeoGrapher provides can be found in the documentation and in a soon forthcoming notebook.\n",
    "\n",
    "Contents:\n",
    "\n",
    "1. Basic cutting\n",
    "2. Making segmentation labels\n",
    "3. Updating the new dataset\n",
    "4. Creating a train/val split\n",
    "\n",
    "## 1. Basic cutting\n",
    "\n",
    "First, we import geographer, as well as some other imports we will need."
   ]
  },
  {
   "cell_type": "code",
   "execution_count": 23,
   "metadata": {},
   "outputs": [],
   "source": [
    "import geographer as gg\n",
    "import shutil\n",
    "from pathlib import Path"
   ]
  },
  {
   "cell_type": "markdown",
   "metadata": {},
   "source": [
    "First, we load the connector for the dataset:"
   ]
  },
  {
   "cell_type": "code",
   "execution_count": 24,
   "metadata": {},
   "outputs": [],
   "source": [
    "from geographer import Connector\n",
    "\n",
    "SOURCE_DATA_DIR = Path(\"gg_example_dataset\")\n",
    "\n",
    "connector = Connector.from_data_dir(SOURCE_DATA_DIR)"
   ]
  },
  {
   "cell_type": "markdown",
   "metadata": {},
   "source": [
    "We now show how to do basic dataset cutting on our example dataset. There are three reasons we want to cut the datset:\n",
    "\n",
    "* The Sentinel-2 raster tiles in this dataset are very large. Each tile is 10980 by 10980 pixels or (given that the resolution is 10m) around 100km by 100km. Sentinel-2 tiles also can have a lot of channels. The resulting files are too large to load into a GPU to do deep learning. To be able to comfortably work with them, we need to create a dataset of smaller rasters.\n",
    "* We do not know if the large tiles contain other stadiums and we want to avoid false negatives in the labels (i.e. stadiums that have not been labeled as such and are counted as belonging to the background). False negatives in the labels would confuse ML models and make it harder for them to learn.\n",
    "* Since almost all of the pixels in a tile belong to the background class the foreground/backgroun class imbalance will be extreme, which will make it hard for ML models to learn. Even if we would like our ML model to eventually be able to identify stadiums on real life data with a high class imbalance in production, we want to train on a dataset with a more manageable class imbalance.\n",
    "\n",
    "GeoGrapher's provides two very general templates for cutting that provide a very large amount of flexibility for how datasets can be cut: iterating over vector features and iterating over rasters. To simplify the complexity of using these for basic use cases, GeoGrapher provides two functions that should provide sensible default behavior for a wide variety of applications. One returns a cutter that creates cutouts around vector features, and one that cuts every raster in the source dataset to a grid of rasters. In this example we want to use the former. We have two rasters per vector feature in our source dataset, and let us say that we want to create two cutouts (from separate rasters) for each vector feature.\n",
    "\n",
    "Let us start with the imports:"
   ]
  },
  {
   "cell_type": "code",
   "execution_count": 25,
   "metadata": {},
   "outputs": [],
   "source": [
    "from geographer.cutters import get_cutter_rasters_around_every_vector"
   ]
  },
  {
   "cell_type": "markdown",
   "metadata": {},
   "source": [
    "We use this function to get a dataset cutter (The target dataset not yet existing will create an error message. Please ignore it! This behavior will be fixed in a future release):"
   ]
  },
  {
   "cell_type": "code",
   "execution_count": 26,
   "metadata": {},
   "outputs": [],
   "source": [
    "IMG_SIZE = 512\n",
    "TARGET_DATA_DIR = Path(f\"gg_example_dataset_cutouts{IMG_SIZE}\")\n",
    "\n",
    "cutter = get_cutter_rasters_around_every_vector(\n",
    "    source_data_dir=SOURCE_DATA_DIR,\n",
    "    target_data_dir=TARGET_DATA_DIR,\n",
    "    name=\"Our first cutter\",  # for saving, see below\n",
    "    new_raster_size=IMG_SIZE,  # in pixels\n",
    "    target_raster_count=2,  # we want to create two different raster cutouts per vector feature\n",
    "    bands={\"rasters\": [1, 2, 3]},  # we only want the RGB (or BGR for Sentinel-2) bands\n",
    "    mode=\"random\",  # defines the way cutouts are chosen. this is the default value, but you can choose other modes.\n",
    ")"
   ]
  },
  {
   "cell_type": "markdown",
   "metadata": {},
   "source": [
    "Now we can cut the dataset (i.e. create a new dataset in `TARGET_DATA_DIR` composed of cutouts from the dataset in `SOURCE_DATA_DIR`) using the cutter's `cut` method. The return value is the connector of the newly created target dataset."
   ]
  },
  {
   "cell_type": "code",
   "execution_count": 27,
   "metadata": {},
   "outputs": [
    {
     "data": {
      "application/json": {
       "ascii": false,
       "bar_format": null,
       "colour": null,
       "elapsed": 0.015270709991455078,
       "initial": 0,
       "n": 0,
       "ncols": null,
       "nrows": null,
       "postfix": null,
       "prefix": "Cutting dataset: ",
       "rate": null,
       "total": 9,
       "unit": "it",
       "unit_divisor": 1000,
       "unit_scale": false
      },
      "application/vnd.jupyter.widget-view+json": {
       "model_id": "ec99d4695dd7432294a9ceb8cb0de7d6",
       "version_major": 2,
       "version_minor": 0
      },
      "text/plain": [
       "Cutting dataset:   0%|          | 0/9 [00:00<?, ?it/s]"
      ]
     },
     "metadata": {},
     "output_type": "display_data"
    }
   ],
   "source": [
    "target_connector = cutter.cut()"
   ]
  },
  {
   "cell_type": "markdown",
   "metadata": {},
   "source": [
    "Let's take a look at the rasters in the new dataset ..."
   ]
  },
  {
   "cell_type": "code",
   "execution_count": 28,
   "metadata": {},
   "outputs": [
    {
     "data": {
      "text/html": [
       "<div>\n",
       "<style scoped>\n",
       "    .dataframe tbody tr th:only-of-type {\n",
       "        vertical-align: middle;\n",
       "    }\n",
       "\n",
       "    .dataframe tbody tr th {\n",
       "        vertical-align: top;\n",
       "    }\n",
       "\n",
       "    .dataframe thead th {\n",
       "        text-align: right;\n",
       "    }\n",
       "</style>\n",
       "<table border=\"1\" class=\"dataframe\">\n",
       "  <thead>\n",
       "    <tr style=\"text-align: right;\">\n",
       "      <th></th>\n",
       "      <th>geometry</th>\n",
       "      <th>raster_processed?</th>\n",
       "      <th>timestamp</th>\n",
       "      <th>orig_crs_epsg_code</th>\n",
       "    </tr>\n",
       "    <tr>\n",
       "      <th>raster_name</th>\n",
       "      <th></th>\n",
       "      <th></th>\n",
       "      <th></th>\n",
       "      <th></th>\n",
       "    </tr>\n",
       "  </thead>\n",
       "  <tbody>\n",
       "    <tr>\n",
       "      <th>S2A_MSIL2A_20220627T100611_N0400_R022_T32UPU_20220627T162810_Munich Olympiastadion.tif</th>\n",
       "      <td>POLYGON ((11.58895 48.14840, 11.58895 48.19594...</td>\n",
       "      <td>True</td>\n",
       "      <td>2022-06-27-10:06:11</td>\n",
       "      <td>32632</td>\n",
       "    </tr>\n",
       "    <tr>\n",
       "      <th>S2B_MSIL2A_20220804T101559_N0400_R065_T32UPU_20220804T130854_Munich Olympiastadion.tif</th>\n",
       "      <td>POLYGON ((11.56448 48.17054, 11.56448 48.21807...</td>\n",
       "      <td>True</td>\n",
       "      <td>2022-08-04-10:15:59</td>\n",
       "      <td>32632</td>\n",
       "    </tr>\n",
       "    <tr>\n",
       "      <th>S2B_MSIL2A_20220804T101559_N0400_R065_T32UPU_20220804T130854_Munich Staedtisches Stadion Dantestr.tif</th>\n",
       "      <td>POLYGON ((11.56403 48.12907, 11.56403 48.17660...</td>\n",
       "      <td>True</td>\n",
       "      <td>2022-08-04-10:15:59</td>\n",
       "      <td>32632</td>\n",
       "    </tr>\n",
       "    <tr>\n",
       "      <th>S2A_MSIL2A_20220413T092031_N0400_R093_T34TFN_20220413T123632_Vasil Levski National Stadium.tif</th>\n",
       "      <td>POLYGON ((23.37083 42.68422, 23.37083 42.73156...</td>\n",
       "      <td>True</td>\n",
       "      <td>2022-04-13-09:20:31</td>\n",
       "      <td>32634</td>\n",
       "    </tr>\n",
       "    <tr>\n",
       "      <th>S2A_MSIL2A_20220722T092041_N0400_R093_T34TFN_20220722T134859_Vasil Levski National Stadium.tif</th>\n",
       "      <td>POLYGON ((23.35795 42.66350, 23.35795 42.71084...</td>\n",
       "      <td>True</td>\n",
       "      <td>2022-07-22-09:20:41</td>\n",
       "      <td>32634</td>\n",
       "    </tr>\n",
       "    <tr>\n",
       "      <th>S2A_MSIL2A_20220413T092031_N0400_R093_T34TFN_20220413T123632_Bulgarian Army Stadium.tif</th>\n",
       "      <td>POLYGON ((23.40157 42.67061, 23.40157 42.71797...</td>\n",
       "      <td>True</td>\n",
       "      <td>2022-04-13-09:20:31</td>\n",
       "      <td>32634</td>\n",
       "    </tr>\n",
       "    <tr>\n",
       "      <th>S2A_MSIL2A_20220412T012701_N0400_R074_T54SUE_20220412T042315_Jingu Baseball Stadium.tif</th>\n",
       "      <td>POLYGON ((139.76736 35.65410, 139.76736 35.700...</td>\n",
       "      <td>True</td>\n",
       "      <td>2022-04-12-01:27:01</td>\n",
       "      <td>32654</td>\n",
       "    </tr>\n",
       "    <tr>\n",
       "      <th>S2A_MSIL2A_20220701T012711_N0400_R074_T54SUE_20220701T043318_Jingu Baseball Stadium.tif</th>\n",
       "      <td>POLYGON ((139.75258 35.66693, 139.75258 35.713...</td>\n",
       "      <td>True</td>\n",
       "      <td>2022-07-01-01:27:11</td>\n",
       "      <td>32654</td>\n",
       "    </tr>\n",
       "  </tbody>\n",
       "</table>\n",
       "</div>"
      ],
      "text/plain": [
       "                                                                                             geometry  \\\n",
       "raster_name                                                                                             \n",
       "S2A_MSIL2A_20220627T100611_N0400_R022_T32UPU_20...  POLYGON ((11.58895 48.14840, 11.58895 48.19594...   \n",
       "S2B_MSIL2A_20220804T101559_N0400_R065_T32UPU_20...  POLYGON ((11.56448 48.17054, 11.56448 48.21807...   \n",
       "S2B_MSIL2A_20220804T101559_N0400_R065_T32UPU_20...  POLYGON ((11.56403 48.12907, 11.56403 48.17660...   \n",
       "S2A_MSIL2A_20220413T092031_N0400_R093_T34TFN_20...  POLYGON ((23.37083 42.68422, 23.37083 42.73156...   \n",
       "S2A_MSIL2A_20220722T092041_N0400_R093_T34TFN_20...  POLYGON ((23.35795 42.66350, 23.35795 42.71084...   \n",
       "S2A_MSIL2A_20220413T092031_N0400_R093_T34TFN_20...  POLYGON ((23.40157 42.67061, 23.40157 42.71797...   \n",
       "S2A_MSIL2A_20220412T012701_N0400_R074_T54SUE_20...  POLYGON ((139.76736 35.65410, 139.76736 35.700...   \n",
       "S2A_MSIL2A_20220701T012711_N0400_R074_T54SUE_20...  POLYGON ((139.75258 35.66693, 139.75258 35.713...   \n",
       "\n",
       "                                                    raster_processed?  \\\n",
       "raster_name                                                             \n",
       "S2A_MSIL2A_20220627T100611_N0400_R022_T32UPU_20...               True   \n",
       "S2B_MSIL2A_20220804T101559_N0400_R065_T32UPU_20...               True   \n",
       "S2B_MSIL2A_20220804T101559_N0400_R065_T32UPU_20...               True   \n",
       "S2A_MSIL2A_20220413T092031_N0400_R093_T34TFN_20...               True   \n",
       "S2A_MSIL2A_20220722T092041_N0400_R093_T34TFN_20...               True   \n",
       "S2A_MSIL2A_20220413T092031_N0400_R093_T34TFN_20...               True   \n",
       "S2A_MSIL2A_20220412T012701_N0400_R074_T54SUE_20...               True   \n",
       "S2A_MSIL2A_20220701T012711_N0400_R074_T54SUE_20...               True   \n",
       "\n",
       "                                                              timestamp  \\\n",
       "raster_name                                                               \n",
       "S2A_MSIL2A_20220627T100611_N0400_R022_T32UPU_20...  2022-06-27-10:06:11   \n",
       "S2B_MSIL2A_20220804T101559_N0400_R065_T32UPU_20...  2022-08-04-10:15:59   \n",
       "S2B_MSIL2A_20220804T101559_N0400_R065_T32UPU_20...  2022-08-04-10:15:59   \n",
       "S2A_MSIL2A_20220413T092031_N0400_R093_T34TFN_20...  2022-04-13-09:20:31   \n",
       "S2A_MSIL2A_20220722T092041_N0400_R093_T34TFN_20...  2022-07-22-09:20:41   \n",
       "S2A_MSIL2A_20220413T092031_N0400_R093_T34TFN_20...  2022-04-13-09:20:31   \n",
       "S2A_MSIL2A_20220412T012701_N0400_R074_T54SUE_20...  2022-04-12-01:27:01   \n",
       "S2A_MSIL2A_20220701T012711_N0400_R074_T54SUE_20...  2022-07-01-01:27:11   \n",
       "\n",
       "                                                    orig_crs_epsg_code  \n",
       "raster_name                                                             \n",
       "S2A_MSIL2A_20220627T100611_N0400_R022_T32UPU_20...               32632  \n",
       "S2B_MSIL2A_20220804T101559_N0400_R065_T32UPU_20...               32632  \n",
       "S2B_MSIL2A_20220804T101559_N0400_R065_T32UPU_20...               32632  \n",
       "S2A_MSIL2A_20220413T092031_N0400_R093_T34TFN_20...               32634  \n",
       "S2A_MSIL2A_20220722T092041_N0400_R093_T34TFN_20...               32634  \n",
       "S2A_MSIL2A_20220413T092031_N0400_R093_T34TFN_20...               32634  \n",
       "S2A_MSIL2A_20220412T012701_N0400_R074_T54SUE_20...               32654  \n",
       "S2A_MSIL2A_20220701T012711_N0400_R074_T54SUE_20...               32654  "
      ]
     },
     "execution_count": 28,
     "metadata": {},
     "output_type": "execute_result"
    }
   ],
   "source": [
    "target_connector.rasters"
   ]
  },
  {
   "cell_type": "markdown",
   "metadata": {},
   "source": [
    "... and at the `vectors`:"
   ]
  },
  {
   "cell_type": "code",
   "execution_count": 29,
   "metadata": {},
   "outputs": [
    {
     "data": {
      "text/html": [
       "<div>\n",
       "<style scoped>\n",
       "    .dataframe tbody tr th:only-of-type {\n",
       "        vertical-align: middle;\n",
       "    }\n",
       "\n",
       "    .dataframe tbody tr th {\n",
       "        vertical-align: top;\n",
       "    }\n",
       "\n",
       "    .dataframe thead th {\n",
       "        text-align: right;\n",
       "    }\n",
       "</style>\n",
       "<table border=\"1\" class=\"dataframe\">\n",
       "  <thead>\n",
       "    <tr style=\"text-align: right;\">\n",
       "      <th></th>\n",
       "      <th>geometry</th>\n",
       "      <th>raster_count</th>\n",
       "      <th>location</th>\n",
       "      <th>download_exception</th>\n",
       "      <th>type</th>\n",
       "    </tr>\n",
       "    <tr>\n",
       "      <th>vector_name</th>\n",
       "      <th></th>\n",
       "      <th></th>\n",
       "      <th></th>\n",
       "      <th></th>\n",
       "      <th></th>\n",
       "    </tr>\n",
       "  </thead>\n",
       "  <tbody>\n",
       "    <tr>\n",
       "      <th>Munich Olympiastadion</th>\n",
       "      <td>POLYGON Z ((11.54677 48.17472 0.00000, 11.5446...</td>\n",
       "      <td>3</td>\n",
       "      <td>Munich, Germany</td>\n",
       "      <td>NoImgsForVectorFeatureFoundError('No images fo...</td>\n",
       "      <td>football</td>\n",
       "    </tr>\n",
       "    <tr>\n",
       "      <th>Munich Track and Field Stadium1</th>\n",
       "      <td>POLYGON Z ((11.54382 48.17279 0.00000, 11.5438...</td>\n",
       "      <td>3</td>\n",
       "      <td>Munich, Germany</td>\n",
       "      <td>NoImgsForVectorFeatureFoundError('No images fo...</td>\n",
       "      <td>football</td>\n",
       "    </tr>\n",
       "    <tr>\n",
       "      <th>Munich Olympia Track and Field2</th>\n",
       "      <td>POLYGON Z ((11.54686 48.17892 0.00000, 11.5468...</td>\n",
       "      <td>2</td>\n",
       "      <td>Munich, Germany</td>\n",
       "      <td>NoImgsForVectorFeatureFoundError('No images fo...</td>\n",
       "      <td>football</td>\n",
       "    </tr>\n",
       "    <tr>\n",
       "      <th>Munich Staedtisches Stadion Dantestr</th>\n",
       "      <td>POLYGON Z ((11.52913 48.16874 0.00000, 11.5291...</td>\n",
       "      <td>2</td>\n",
       "      <td>Munich, Germany</td>\n",
       "      <td>NoImgsForVectorFeatureFoundError('No images fo...</td>\n",
       "      <td>football</td>\n",
       "    </tr>\n",
       "    <tr>\n",
       "      <th>Vasil Levski National Stadium</th>\n",
       "      <td>POLYGON Z ((23.33410 42.68813 0.00000, 23.3340...</td>\n",
       "      <td>2</td>\n",
       "      <td>Sofia, Bulgaria</td>\n",
       "      <td>NoImgsForVectorFeatureFoundError('No images fo...</td>\n",
       "      <td>football</td>\n",
       "    </tr>\n",
       "    <tr>\n",
       "      <th>Bulgarian Army Stadium</th>\n",
       "      <td>POLYGON Z ((23.34065 42.68492 0.00000, 23.3406...</td>\n",
       "      <td>2</td>\n",
       "      <td>Sofia, Bulgaria</td>\n",
       "      <td>NoImgsForVectorFeatureFoundError('No images fo...</td>\n",
       "      <td>football</td>\n",
       "    </tr>\n",
       "    <tr>\n",
       "      <th>Arena Sofia</th>\n",
       "      <td>POLYGON Z ((23.34018 42.68318 0.00000, 23.3401...</td>\n",
       "      <td>2</td>\n",
       "      <td>Sofia, Bulgaria</td>\n",
       "      <td>NoImgsForVectorFeatureFoundError('No images fo...</td>\n",
       "      <td>football</td>\n",
       "    </tr>\n",
       "    <tr>\n",
       "      <th>Jingu Baseball Stadium</th>\n",
       "      <td>POLYGON Z ((139.71597 35.67490 0.00000, 139.71...</td>\n",
       "      <td>2</td>\n",
       "      <td>Tokyo, Japan</td>\n",
       "      <td>NoImgsForVectorFeatureFoundError('No images fo...</td>\n",
       "      <td>baseball</td>\n",
       "    </tr>\n",
       "    <tr>\n",
       "      <th>Japan National Stadium</th>\n",
       "      <td>POLYGON Z ((139.71482 35.67644 0.00000, 139.71...</td>\n",
       "      <td>2</td>\n",
       "      <td>Tokyo, Japan</td>\n",
       "      <td>NoImgsForVectorFeatureFoundError('No images fo...</td>\n",
       "      <td>football</td>\n",
       "    </tr>\n",
       "  </tbody>\n",
       "</table>\n",
       "</div>"
      ],
      "text/plain": [
       "                                                                               geometry  \\\n",
       "vector_name                                                                               \n",
       "Munich Olympiastadion                 POLYGON Z ((11.54677 48.17472 0.00000, 11.5446...   \n",
       "Munich Track and Field Stadium1       POLYGON Z ((11.54382 48.17279 0.00000, 11.5438...   \n",
       "Munich Olympia Track and Field2       POLYGON Z ((11.54686 48.17892 0.00000, 11.5468...   \n",
       "Munich Staedtisches Stadion Dantestr  POLYGON Z ((11.52913 48.16874 0.00000, 11.5291...   \n",
       "Vasil Levski National Stadium         POLYGON Z ((23.33410 42.68813 0.00000, 23.3340...   \n",
       "Bulgarian Army Stadium                POLYGON Z ((23.34065 42.68492 0.00000, 23.3406...   \n",
       "Arena Sofia                           POLYGON Z ((23.34018 42.68318 0.00000, 23.3401...   \n",
       "Jingu Baseball Stadium                POLYGON Z ((139.71597 35.67490 0.00000, 139.71...   \n",
       "Japan National Stadium                POLYGON Z ((139.71482 35.67644 0.00000, 139.71...   \n",
       "\n",
       "                                      raster_count         location  \\\n",
       "vector_name                                                           \n",
       "Munich Olympiastadion                            3  Munich, Germany   \n",
       "Munich Track and Field Stadium1                  3  Munich, Germany   \n",
       "Munich Olympia Track and Field2                  2  Munich, Germany   \n",
       "Munich Staedtisches Stadion Dantestr             2  Munich, Germany   \n",
       "Vasil Levski National Stadium                    2  Sofia, Bulgaria   \n",
       "Bulgarian Army Stadium                           2  Sofia, Bulgaria   \n",
       "Arena Sofia                                      2  Sofia, Bulgaria   \n",
       "Jingu Baseball Stadium                           2     Tokyo, Japan   \n",
       "Japan National Stadium                           2     Tokyo, Japan   \n",
       "\n",
       "                                                                     download_exception  \\\n",
       "vector_name                                                                               \n",
       "Munich Olympiastadion                 NoImgsForVectorFeatureFoundError('No images fo...   \n",
       "Munich Track and Field Stadium1       NoImgsForVectorFeatureFoundError('No images fo...   \n",
       "Munich Olympia Track and Field2       NoImgsForVectorFeatureFoundError('No images fo...   \n",
       "Munich Staedtisches Stadion Dantestr  NoImgsForVectorFeatureFoundError('No images fo...   \n",
       "Vasil Levski National Stadium         NoImgsForVectorFeatureFoundError('No images fo...   \n",
       "Bulgarian Army Stadium                NoImgsForVectorFeatureFoundError('No images fo...   \n",
       "Arena Sofia                           NoImgsForVectorFeatureFoundError('No images fo...   \n",
       "Jingu Baseball Stadium                NoImgsForVectorFeatureFoundError('No images fo...   \n",
       "Japan National Stadium                NoImgsForVectorFeatureFoundError('No images fo...   \n",
       "\n",
       "                                          type  \n",
       "vector_name                                     \n",
       "Munich Olympiastadion                 football  \n",
       "Munich Track and Field Stadium1       football  \n",
       "Munich Olympia Track and Field2       football  \n",
       "Munich Staedtisches Stadion Dantestr  football  \n",
       "Vasil Levski National Stadium         football  \n",
       "Bulgarian Army Stadium                football  \n",
       "Arena Sofia                           football  \n",
       "Jingu Baseball Stadium                baseball  \n",
       "Japan National Stadium                football  "
      ]
     },
     "execution_count": 29,
     "metadata": {},
     "output_type": "execute_result"
    }
   ],
   "source": [
    "target_connector.vectors"
   ]
  },
  {
   "cell_type": "markdown",
   "metadata": {},
   "source": [
    "Note: We see in the `raster_count` column that most stadiums are contained in exactly two rasters, but (depending on the rasters in your dataset) some might be contained in three rasters. Choosing how to create cutouts to reach the targeted `raster_count` is a combinatorially hard problem and this cutter uses a greedy heuristic to select images to approximatively achieve the targeted `raster_count` which in practice works well (one can also experiment with different random seeds, which can help). What can happen is that at some stage in the iteration the `target_raster_count` for some vector features V in a cluster C has been reached, but when creating cutouts for the remaining rasters C-V in the cluster the cutouts contain vector features from V. The `raster_count` may also be less than `target_raster_count` if there are not enough rasters in the source source dataset to reach the targeted `raster_count` (e.g. in this example if we had set `target_raster_count` to 10).\n",
    "\n",
    "If instead of creating cutouts around the vector stadiums we want to just cut each raster in the source directory to a grid of rasters, we can use the `get_cutter_every_raster_to_grid` function from `geographer.cutters`."
   ]
  },
  {
   "cell_type": "markdown",
   "metadata": {},
   "source": [
    "The stadiums have now been added to the connector's `vectors` GeoDataFrame:\n",
    "\n",
    "## 2. Making segmentation labels\n",
    "\n",
    "To make segmentation labels, we use `LabelMakers`. The particular `LabelMaker` we want to use is `SegLabelMakerCategorical`. This is the reason we set the `task_vector_classes` argument in the [TODO: INSERT LINK] tutorial in which we created the dataset. The label maker uses the `connector.task_vector_classes` attribute for a safety check."
   ]
  },
  {
   "cell_type": "code",
   "execution_count": 30,
   "metadata": {},
   "outputs": [
    {
     "data": {
      "application/json": {
       "ascii": false,
       "bar_format": null,
       "colour": null,
       "elapsed": 0.010196685791015625,
       "initial": 0,
       "n": 0,
       "ncols": null,
       "nrows": null,
       "postfix": null,
       "prefix": "Making labels: ",
       "rate": null,
       "total": 8,
       "unit": "it",
       "unit_divisor": 1000,
       "unit_scale": false
      },
      "application/vnd.jupyter.widget-view+json": {
       "model_id": "6b2ef8d1e3454afa9dd3c44a4f76bc83",
       "version_major": 2,
       "version_minor": 0
      },
      "text/plain": [
       "Making labels:   0%|          | 0/8 [00:00<?, ?it/s]"
      ]
     },
     "metadata": {},
     "output_type": "display_data"
    }
   ],
   "source": [
    "from geographer.label_makers import SegLabelMakerCategorical\n",
    "\n",
    "label_maker = SegLabelMakerCategorical()\n",
    "label_maker.make_labels(connector=target_connector)"
   ]
  },
  {
   "cell_type": "markdown",
   "metadata": {},
   "source": [
    "If we had made labels for our source dataset in `SOURCE_DATA_DIR` then because the dataset cutters will also create cutouts for the labels we would not have had to create labels for the new dataset in `TARGET_DATA_DIR` again.\n",
    "\n",
    "## 3. Updating the new dataset\n",
    "\n",
    "If the source dataset grows to contain more vector features or rasters we can update the dataset of cutouts. Let's simulate this situation by copying the source dataset, deleting some vector features and rasters, cutting the dataset as above, and adding them back again to the source dataset. Then we will see how easy it is to update the dataset of cutouts.\n",
    "\n",
    "Here we copy the source dataset to `TRUNCATED_SOURCE_DATA_DIR`:"
   ]
  },
  {
   "cell_type": "code",
   "execution_count": 31,
   "metadata": {},
   "outputs": [
    {
     "data": {
      "text/plain": [
       "PosixPath('gg_example_dataset_truncated')"
      ]
     },
     "execution_count": 31,
     "metadata": {},
     "output_type": "execute_result"
    }
   ],
   "source": [
    "TRUNCATED_SOURCE_DATA_DIR = SOURCE_DATA_DIR.parent / (\n",
    "    SOURCE_DATA_DIR.name + \"_truncated\"\n",
    ")\n",
    "\n",
    "shutil.copytree(SOURCE_DATA_DIR, TRUNCATED_SOURCE_DATA_DIR)"
   ]
  },
  {
   "cell_type": "markdown",
   "metadata": {},
   "source": [
    "Let's delete some vector features and rasters from the truncated source dataset. We use the `drop_vectors` and `drop_rasters` methods. The `label_maker` arguments are optional. If given they will in the case of `drop_vectors` update labels for rasters from which vector features have been removed and in the case of `drop_rasters` delete the segmentation labels corresponding to the rasters."
   ]
  },
  {
   "cell_type": "code",
   "execution_count": 32,
   "metadata": {},
   "outputs": [
    {
     "data": {
      "application/json": {
       "ascii": false,
       "bar_format": null,
       "colour": null,
       "elapsed": 0.008774280548095703,
       "initial": 0,
       "n": 0,
       "ncols": null,
       "nrows": null,
       "postfix": null,
       "prefix": "Deleting labels: ",
       "rate": null,
       "total": 1,
       "unit": "it",
       "unit_divisor": 1000,
       "unit_scale": false
      },
      "application/vnd.jupyter.widget-view+json": {
       "model_id": "dfdd0f3ba6204504bf43527beca178de",
       "version_major": 2,
       "version_minor": 0
      },
      "text/plain": [
       "Deleting labels:   0%|          | 0/1 [00:00<?, ?it/s]"
      ]
     },
     "metadata": {},
     "output_type": "display_data"
    }
   ],
   "source": [
    "truncated_source_connector = Connector.from_data_dir(TRUNCATED_SOURCE_DATA_DIR)\n",
    "vectors_to_drop = [\"Munich Olympiastadion\", \"Munich Track and Field Stadium1\"]\n",
    "truncated_source_connector.drop_vectors(vectors_to_drop, label_maker=label_maker)\n",
    "candidate_rasters_to_drop = truncated_source_connector.rasters_containing_vector(\n",
    "    \"Munich Olympia Track and Field2\"\n",
    ")\n",
    "raster_to_drop = candidate_rasters_to_drop[0]\n",
    "truncated_source_connector.drop_rasters(\n",
    "    raster_to_drop,\n",
    "    remove_rasters_from_disk=True,  # default value\n",
    "    label_maker=label_maker,\n",
    ")"
   ]
  },
  {
   "cell_type": "markdown",
   "metadata": {},
   "source": [
    "Make sure to save the changes:"
   ]
  },
  {
   "cell_type": "code",
   "execution_count": 33,
   "metadata": {},
   "outputs": [],
   "source": [
    "truncated_source_connector.save()"
   ]
  },
  {
   "cell_type": "markdown",
   "metadata": {},
   "source": [
    "Let's make sure `vectors` and `rasters` look as they should. Notice how the `raster_count` column in `vectors` is consistent with the removals we've made."
   ]
  },
  {
   "cell_type": "code",
   "execution_count": 34,
   "metadata": {},
   "outputs": [
    {
     "data": {
      "text/html": [
       "<div>\n",
       "<style scoped>\n",
       "    .dataframe tbody tr th:only-of-type {\n",
       "        vertical-align: middle;\n",
       "    }\n",
       "\n",
       "    .dataframe tbody tr th {\n",
       "        vertical-align: top;\n",
       "    }\n",
       "\n",
       "    .dataframe thead th {\n",
       "        text-align: right;\n",
       "    }\n",
       "</style>\n",
       "<table border=\"1\" class=\"dataframe\">\n",
       "  <thead>\n",
       "    <tr style=\"text-align: right;\">\n",
       "      <th></th>\n",
       "      <th>raster_count</th>\n",
       "      <th>location</th>\n",
       "      <th>download_exception</th>\n",
       "      <th>type</th>\n",
       "      <th>geometry</th>\n",
       "    </tr>\n",
       "    <tr>\n",
       "      <th>vector_name</th>\n",
       "      <th></th>\n",
       "      <th></th>\n",
       "      <th></th>\n",
       "      <th></th>\n",
       "      <th></th>\n",
       "    </tr>\n",
       "  </thead>\n",
       "  <tbody>\n",
       "    <tr>\n",
       "      <th>Munich Olympia Track and Field2</th>\n",
       "      <td>1</td>\n",
       "      <td>Munich, Germany</td>\n",
       "      <td>NoImgsForVectorFeatureFoundError('No images fo...</td>\n",
       "      <td>football</td>\n",
       "      <td>POLYGON Z ((11.54686 48.17892 0.00000, 11.5468...</td>\n",
       "    </tr>\n",
       "    <tr>\n",
       "      <th>Munich Staedtisches Stadion Dantestr</th>\n",
       "      <td>1</td>\n",
       "      <td>Munich, Germany</td>\n",
       "      <td>NoImgsForVectorFeatureFoundError('No images fo...</td>\n",
       "      <td>football</td>\n",
       "      <td>POLYGON Z ((11.52913 48.16874 0.00000, 11.5291...</td>\n",
       "    </tr>\n",
       "    <tr>\n",
       "      <th>Vasil Levski National Stadium</th>\n",
       "      <td>2</td>\n",
       "      <td>Sofia, Bulgaria</td>\n",
       "      <td>NoImgsForVectorFeatureFoundError('No images fo...</td>\n",
       "      <td>football</td>\n",
       "      <td>POLYGON Z ((23.33410 42.68813 0.00000, 23.3340...</td>\n",
       "    </tr>\n",
       "    <tr>\n",
       "      <th>Bulgarian Army Stadium</th>\n",
       "      <td>2</td>\n",
       "      <td>Sofia, Bulgaria</td>\n",
       "      <td>NoImgsForVectorFeatureFoundError('No images fo...</td>\n",
       "      <td>football</td>\n",
       "      <td>POLYGON Z ((23.34065 42.68492 0.00000, 23.3406...</td>\n",
       "    </tr>\n",
       "    <tr>\n",
       "      <th>Arena Sofia</th>\n",
       "      <td>2</td>\n",
       "      <td>Sofia, Bulgaria</td>\n",
       "      <td>NoImgsForVectorFeatureFoundError('No images fo...</td>\n",
       "      <td>football</td>\n",
       "      <td>POLYGON Z ((23.34018 42.68318 0.00000, 23.3401...</td>\n",
       "    </tr>\n",
       "    <tr>\n",
       "      <th>Jingu Baseball Stadium</th>\n",
       "      <td>2</td>\n",
       "      <td>Tokyo, Japan</td>\n",
       "      <td>NoImgsForVectorFeatureFoundError('No images fo...</td>\n",
       "      <td>baseball</td>\n",
       "      <td>POLYGON Z ((139.71597 35.67490 0.00000, 139.71...</td>\n",
       "    </tr>\n",
       "    <tr>\n",
       "      <th>Japan National Stadium</th>\n",
       "      <td>2</td>\n",
       "      <td>Tokyo, Japan</td>\n",
       "      <td>NoImgsForVectorFeatureFoundError('No images fo...</td>\n",
       "      <td>football</td>\n",
       "      <td>POLYGON Z ((139.71482 35.67644 0.00000, 139.71...</td>\n",
       "    </tr>\n",
       "  </tbody>\n",
       "</table>\n",
       "</div>"
      ],
      "text/plain": [
       "                                      raster_count         location  \\\n",
       "vector_name                                                           \n",
       "Munich Olympia Track and Field2                  1  Munich, Germany   \n",
       "Munich Staedtisches Stadion Dantestr             1  Munich, Germany   \n",
       "Vasil Levski National Stadium                    2  Sofia, Bulgaria   \n",
       "Bulgarian Army Stadium                           2  Sofia, Bulgaria   \n",
       "Arena Sofia                                      2  Sofia, Bulgaria   \n",
       "Jingu Baseball Stadium                           2     Tokyo, Japan   \n",
       "Japan National Stadium                           2     Tokyo, Japan   \n",
       "\n",
       "                                                                     download_exception  \\\n",
       "vector_name                                                                               \n",
       "Munich Olympia Track and Field2       NoImgsForVectorFeatureFoundError('No images fo...   \n",
       "Munich Staedtisches Stadion Dantestr  NoImgsForVectorFeatureFoundError('No images fo...   \n",
       "Vasil Levski National Stadium         NoImgsForVectorFeatureFoundError('No images fo...   \n",
       "Bulgarian Army Stadium                NoImgsForVectorFeatureFoundError('No images fo...   \n",
       "Arena Sofia                           NoImgsForVectorFeatureFoundError('No images fo...   \n",
       "Jingu Baseball Stadium                NoImgsForVectorFeatureFoundError('No images fo...   \n",
       "Japan National Stadium                NoImgsForVectorFeatureFoundError('No images fo...   \n",
       "\n",
       "                                          type  \\\n",
       "vector_name                                      \n",
       "Munich Olympia Track and Field2       football   \n",
       "Munich Staedtisches Stadion Dantestr  football   \n",
       "Vasil Levski National Stadium         football   \n",
       "Bulgarian Army Stadium                football   \n",
       "Arena Sofia                           football   \n",
       "Jingu Baseball Stadium                baseball   \n",
       "Japan National Stadium                football   \n",
       "\n",
       "                                                                               geometry  \n",
       "vector_name                                                                              \n",
       "Munich Olympia Track and Field2       POLYGON Z ((11.54686 48.17892 0.00000, 11.5468...  \n",
       "Munich Staedtisches Stadion Dantestr  POLYGON Z ((11.52913 48.16874 0.00000, 11.5291...  \n",
       "Vasil Levski National Stadium         POLYGON Z ((23.33410 42.68813 0.00000, 23.3340...  \n",
       "Bulgarian Army Stadium                POLYGON Z ((23.34065 42.68492 0.00000, 23.3406...  \n",
       "Arena Sofia                           POLYGON Z ((23.34018 42.68318 0.00000, 23.3401...  \n",
       "Jingu Baseball Stadium                POLYGON Z ((139.71597 35.67490 0.00000, 139.71...  \n",
       "Japan National Stadium                POLYGON Z ((139.71482 35.67644 0.00000, 139.71...  "
      ]
     },
     "execution_count": 34,
     "metadata": {},
     "output_type": "execute_result"
    }
   ],
   "source": [
    "truncated_source_connector.vectors"
   ]
  },
  {
   "cell_type": "code",
   "execution_count": 35,
   "metadata": {},
   "outputs": [
    {
     "data": {
      "text/html": [
       "<div>\n",
       "<style scoped>\n",
       "    .dataframe tbody tr th:only-of-type {\n",
       "        vertical-align: middle;\n",
       "    }\n",
       "\n",
       "    .dataframe tbody tr th {\n",
       "        vertical-align: top;\n",
       "    }\n",
       "\n",
       "    .dataframe thead th {\n",
       "        text-align: right;\n",
       "    }\n",
       "</style>\n",
       "<table border=\"1\" class=\"dataframe\">\n",
       "  <thead>\n",
       "    <tr style=\"text-align: right;\">\n",
       "      <th></th>\n",
       "      <th>raster_processed?</th>\n",
       "      <th>timestamp</th>\n",
       "      <th>orig_crs_epsg_code</th>\n",
       "      <th>geometry</th>\n",
       "    </tr>\n",
       "    <tr>\n",
       "      <th>raster_name</th>\n",
       "      <th></th>\n",
       "      <th></th>\n",
       "      <th></th>\n",
       "      <th></th>\n",
       "    </tr>\n",
       "  </thead>\n",
       "  <tbody>\n",
       "    <tr>\n",
       "      <th>S2A_MSIL2A_20220722T092041_N0400_R093_T34TFN_20220722T134859.tif</th>\n",
       "      <td>True</td>\n",
       "      <td>2022-07-22-09:20:41</td>\n",
       "      <td>32634</td>\n",
       "      <td>POLYGON ((23.54663 42.33578, 23.58754 43.32358...</td>\n",
       "    </tr>\n",
       "    <tr>\n",
       "      <th>S2A_MSIL2A_20220413T092031_N0400_R093_T34TFN_20220413T123632.tif</th>\n",
       "      <td>True</td>\n",
       "      <td>2022-04-13-09:20:31</td>\n",
       "      <td>32634</td>\n",
       "      <td>POLYGON ((23.54663 42.33578, 23.58754 43.32358...</td>\n",
       "    </tr>\n",
       "    <tr>\n",
       "      <th>S2B_MSIL2A_20220804T101559_N0400_R065_T32UPU_20220804T130854.tif</th>\n",
       "      <td>True</td>\n",
       "      <td>2022-08-04-10:15:59</td>\n",
       "      <td>32632</td>\n",
       "      <td>POLYGON ((11.79809 47.73104, 11.85244 48.71769...</td>\n",
       "    </tr>\n",
       "    <tr>\n",
       "      <th>S2A_MSIL2A_20220412T012701_N0400_R074_T54SUE_20220412T042315.tif</th>\n",
       "      <td>True</td>\n",
       "      <td>2022-04-12-01:27:01</td>\n",
       "      <td>32654</td>\n",
       "      <td>POLYGON ((140.00972 35.15084, 139.99743 36.140...</td>\n",
       "    </tr>\n",
       "    <tr>\n",
       "      <th>S2A_MSIL2A_20220701T012711_N0400_R074_T54SUE_20220701T043318.tif</th>\n",
       "      <td>True</td>\n",
       "      <td>2022-07-01-01:27:11</td>\n",
       "      <td>32654</td>\n",
       "      <td>POLYGON ((140.00972 35.15084, 139.99743 36.140...</td>\n",
       "    </tr>\n",
       "  </tbody>\n",
       "</table>\n",
       "</div>"
      ],
      "text/plain": [
       "                                                    raster_processed?  \\\n",
       "raster_name                                                             \n",
       "S2A_MSIL2A_20220722T092041_N0400_R093_T34TFN_20...               True   \n",
       "S2A_MSIL2A_20220413T092031_N0400_R093_T34TFN_20...               True   \n",
       "S2B_MSIL2A_20220804T101559_N0400_R065_T32UPU_20...               True   \n",
       "S2A_MSIL2A_20220412T012701_N0400_R074_T54SUE_20...               True   \n",
       "S2A_MSIL2A_20220701T012711_N0400_R074_T54SUE_20...               True   \n",
       "\n",
       "                                                              timestamp  \\\n",
       "raster_name                                                               \n",
       "S2A_MSIL2A_20220722T092041_N0400_R093_T34TFN_20...  2022-07-22-09:20:41   \n",
       "S2A_MSIL2A_20220413T092031_N0400_R093_T34TFN_20...  2022-04-13-09:20:31   \n",
       "S2B_MSIL2A_20220804T101559_N0400_R065_T32UPU_20...  2022-08-04-10:15:59   \n",
       "S2A_MSIL2A_20220412T012701_N0400_R074_T54SUE_20...  2022-04-12-01:27:01   \n",
       "S2A_MSIL2A_20220701T012711_N0400_R074_T54SUE_20...  2022-07-01-01:27:11   \n",
       "\n",
       "                                                    orig_crs_epsg_code  \\\n",
       "raster_name                                                              \n",
       "S2A_MSIL2A_20220722T092041_N0400_R093_T34TFN_20...               32634   \n",
       "S2A_MSIL2A_20220413T092031_N0400_R093_T34TFN_20...               32634   \n",
       "S2B_MSIL2A_20220804T101559_N0400_R065_T32UPU_20...               32632   \n",
       "S2A_MSIL2A_20220412T012701_N0400_R074_T54SUE_20...               32654   \n",
       "S2A_MSIL2A_20220701T012711_N0400_R074_T54SUE_20...               32654   \n",
       "\n",
       "                                                                                             geometry  \n",
       "raster_name                                                                                            \n",
       "S2A_MSIL2A_20220722T092041_N0400_R093_T34TFN_20...  POLYGON ((23.54663 42.33578, 23.58754 43.32358...  \n",
       "S2A_MSIL2A_20220413T092031_N0400_R093_T34TFN_20...  POLYGON ((23.54663 42.33578, 23.58754 43.32358...  \n",
       "S2B_MSIL2A_20220804T101559_N0400_R065_T32UPU_20...  POLYGON ((11.79809 47.73104, 11.85244 48.71769...  \n",
       "S2A_MSIL2A_20220412T012701_N0400_R074_T54SUE_20...  POLYGON ((140.00972 35.15084, 139.99743 36.140...  \n",
       "S2A_MSIL2A_20220701T012711_N0400_R074_T54SUE_20...  POLYGON ((140.00972 35.15084, 139.99743 36.140...  "
      ]
     },
     "execution_count": 35,
     "metadata": {},
     "output_type": "execute_result"
    }
   ],
   "source": [
    "truncated_source_connector.rasters"
   ]
  },
  {
   "cell_type": "markdown",
   "metadata": {},
   "source": [
    "Now, we can cut the truncated dataset and create labels for the cutouts as before:"
   ]
  },
  {
   "cell_type": "code",
   "execution_count": 36,
   "metadata": {},
   "outputs": [
    {
     "name": "stderr",
     "output_type": "stream",
     "text": [
      "Missing connector file attrs.json found in gg_example_dataset_truncated_cutouts512/connector\n",
      "Traceback (most recent call last):\n",
      "  File \"/home/rustam/dida/GeoGrapher/geographer/connector.py\", line 220, in from_data_dir\n",
      "    with open(attrs_path, \"r\") as read_file:\n",
      "FileNotFoundError: [Errno 2] No such file or directory: 'gg_example_dataset_truncated_cutouts512/connector/attrs.json'\n"
     ]
    },
    {
     "data": {
      "application/json": {
       "ascii": false,
       "bar_format": null,
       "colour": null,
       "elapsed": 0.010853767395019531,
       "initial": 0,
       "n": 0,
       "ncols": null,
       "nrows": null,
       "postfix": null,
       "prefix": "Cutting dataset: ",
       "rate": null,
       "total": 9,
       "unit": "it",
       "unit_divisor": 1000,
       "unit_scale": false
      },
      "application/vnd.jupyter.widget-view+json": {
       "model_id": "b0d724ce4b5442e8a5bdef0808f3bd97",
       "version_major": 2,
       "version_minor": 0
      },
      "text/plain": [
       "Cutting dataset:   0%|          | 0/9 [00:00<?, ?it/s]"
      ]
     },
     "metadata": {},
     "output_type": "display_data"
    }
   ],
   "source": [
    "# cutting\n",
    "\n",
    "IMG_SIZE = 512\n",
    "TARGET_DATA_DIR2 = Path(f\"gg_example_dataset_truncated_cutouts{IMG_SIZE}\")\n",
    "TRUNCATED_CUTTER_NAME = \"truncated_cutter\"\n",
    "\n",
    "cutter = get_cutter_rasters_around_every_vector(\n",
    "    source_data_dir=SOURCE_DATA_DIR,\n",
    "    target_data_dir=TARGET_DATA_DIR2,\n",
    "    name=TRUNCATED_CUTTER_NAME,  # for saving, see below\n",
    "    new_raster_size=IMG_SIZE,  # in pixels\n",
    "    target_raster_count=2,  # we want to create two different raster cutouts per vector feature\n",
    "    bands={\"rasters\": [1, 2, 3]},  # we only want the RGB (or BGR for Sentinel-2) bands\n",
    "    mode=\"random\",  # defines the way cutouts are chosen. this is the default value, but you can choose other modes.\n",
    ")\n",
    "truncated_target_connector = cutter.cut()"
   ]
  },
  {
   "cell_type": "code",
   "execution_count": 37,
   "metadata": {},
   "outputs": [
    {
     "data": {
      "application/json": {
       "ascii": false,
       "bar_format": null,
       "colour": null,
       "elapsed": 0.019551753997802734,
       "initial": 0,
       "n": 0,
       "ncols": null,
       "nrows": null,
       "postfix": null,
       "prefix": "Making labels: ",
       "rate": null,
       "total": 8,
       "unit": "it",
       "unit_divisor": 1000,
       "unit_scale": false
      },
      "application/vnd.jupyter.widget-view+json": {
       "model_id": "df7fc083a18d490e9a9651bab80eff79",
       "version_major": 2,
       "version_minor": 0
      },
      "text/plain": [
       "Making labels:   0%|          | 0/8 [00:00<?, ?it/s]"
      ]
     },
     "metadata": {},
     "output_type": "display_data"
    }
   ],
   "source": [
    "# making labels\n",
    "\n",
    "label_maker.make_labels(connector=truncated_target_connector)"
   ]
  },
  {
   "cell_type": "markdown",
   "metadata": {},
   "source": [
    "Now, let's add the dropped data back:"
   ]
  },
  {
   "cell_type": "code",
   "execution_count": 38,
   "metadata": {},
   "outputs": [],
   "source": [
    "source_connector = Connector.from_data_dir(SOURCE_DATA_DIR)\n",
    "\n",
    "# copy over deleted raster\n",
    "shutil.copy(\n",
    "    source_connector.rasters_dir / raster_to_drop,\n",
    "    truncated_source_connector.rasters_dir / raster_to_drop,\n",
    ")\n",
    "\n",
    "# add entries to rasters and vectors GeoDataFrames\n",
    "truncated_source_connector.add_to_rasters(\n",
    "    source_connector.rasters.loc[[raster_to_drop]]\n",
    ")\n",
    "truncated_source_connector.add_to_vectors(source_connector.vectors.loc[vectors_to_drop])\n",
    "\n",
    "# save\n",
    "truncated_source_connector.save()"
   ]
  },
  {
   "cell_type": "markdown",
   "metadata": {},
   "source": [
    "Now, update the truncated target dataset. The cutter returned by `get_cutter_rasters_around_every_vector` is a `DSCutterIterOverVectors`. To load the saved cutter (we don't actually have to do that here, since the cutter variable is still bound, but in a normal workflow we would), we run:"
   ]
  },
  {
   "cell_type": "code",
   "execution_count": 39,
   "metadata": {},
   "outputs": [],
   "source": [
    "from geographer.cutters import DSCutterIterOverVectors\n",
    "\n",
    "cutter_json_path = TARGET_DATA_DIR2 / \"connector\" / f\"{TRUNCATED_CUTTER_NAME}.json\"\n",
    "cutter = DSCutterIterOverVectors.from_json_file(cutter_json_path)\n"
   ]
  },
  {
   "cell_type": "code",
   "execution_count": 40,
   "metadata": {},
   "outputs": [
    {
     "data": {
      "application/json": {
       "ascii": false,
       "bar_format": null,
       "colour": null,
       "elapsed": 0.012530326843261719,
       "initial": 0,
       "n": 0,
       "ncols": null,
       "nrows": null,
       "postfix": null,
       "prefix": "Cutting dataset: ",
       "rate": null,
       "total": 0,
       "unit": "it",
       "unit_divisor": 1000,
       "unit_scale": false
      },
      "application/vnd.jupyter.widget-view+json": {
       "model_id": "e125034ce79f47a98c4e4ff6f67e3c43",
       "version_major": 2,
       "version_minor": 0
      },
      "text/plain": [
       "Cutting dataset: : 0it [00:00, ?it/s]"
      ]
     },
     "metadata": {},
     "output_type": "display_data"
    },
    {
     "name": "stderr",
     "output_type": "stream",
     "text": [
      "/home/rustam/dida/GeoGrapher/geographer/utils/utils.py:177: FutureWarning: Behavior when concatenating bool-dtype and numeric-dtype arrays is deprecated; in a future version these will cast to object dtype (instead of coercing bools to numeric values). To retain the old behavior, explicitly cast bool-dtype arrays to numeric dtype.\n",
      "  concatenated_gdf = GeoDataFrame(pd.concat(objs, **kwargs), crs=objs[0].crs)\n"
     ]
    },
    {
     "data": {
      "text/plain": [
       "<geographer.connector.Connector at 0x7fee2667e320>"
      ]
     },
     "execution_count": 40,
     "metadata": {},
     "output_type": "execute_result"
    }
   ],
   "source": [
    "cutter.update()"
   ]
  },
  {
   "cell_type": "markdown",
   "metadata": {},
   "source": [
    "Now, we can check that the truncated target dataset has been updated. Note that we have to reload the `truncated_source_connector`."
   ]
  },
  {
   "cell_type": "code",
   "execution_count": 41,
   "metadata": {},
   "outputs": [
    {
     "data": {
      "text/html": [
       "<div>\n",
       "<style scoped>\n",
       "    .dataframe tbody tr th:only-of-type {\n",
       "        vertical-align: middle;\n",
       "    }\n",
       "\n",
       "    .dataframe tbody tr th {\n",
       "        vertical-align: top;\n",
       "    }\n",
       "\n",
       "    .dataframe thead th {\n",
       "        text-align: right;\n",
       "    }\n",
       "</style>\n",
       "<table border=\"1\" class=\"dataframe\">\n",
       "  <thead>\n",
       "    <tr style=\"text-align: right;\">\n",
       "      <th></th>\n",
       "      <th>raster_count</th>\n",
       "      <th>location</th>\n",
       "      <th>download_exception</th>\n",
       "      <th>type</th>\n",
       "      <th>geometry</th>\n",
       "    </tr>\n",
       "    <tr>\n",
       "      <th>vector_name</th>\n",
       "      <th></th>\n",
       "      <th></th>\n",
       "      <th></th>\n",
       "      <th></th>\n",
       "      <th></th>\n",
       "    </tr>\n",
       "  </thead>\n",
       "  <tbody>\n",
       "    <tr>\n",
       "      <th>Munich Olympiastadion</th>\n",
       "      <td>3</td>\n",
       "      <td>Munich, Germany</td>\n",
       "      <td>NoImgsForVectorFeatureFoundError('No images fo...</td>\n",
       "      <td>football</td>\n",
       "      <td>POLYGON Z ((11.54677 48.17472 0.00000, 11.5446...</td>\n",
       "    </tr>\n",
       "    <tr>\n",
       "      <th>Munich Track and Field Stadium1</th>\n",
       "      <td>3</td>\n",
       "      <td>Munich, Germany</td>\n",
       "      <td>NoImgsForVectorFeatureFoundError('No images fo...</td>\n",
       "      <td>football</td>\n",
       "      <td>POLYGON Z ((11.54382 48.17279 0.00000, 11.5438...</td>\n",
       "    </tr>\n",
       "    <tr>\n",
       "      <th>Munich Olympia Track and Field2</th>\n",
       "      <td>2</td>\n",
       "      <td>Munich, Germany</td>\n",
       "      <td>NoImgsForVectorFeatureFoundError('No images fo...</td>\n",
       "      <td>football</td>\n",
       "      <td>POLYGON Z ((11.54686 48.17892 0.00000, 11.5468...</td>\n",
       "    </tr>\n",
       "    <tr>\n",
       "      <th>Munich Staedtisches Stadion Dantestr</th>\n",
       "      <td>2</td>\n",
       "      <td>Munich, Germany</td>\n",
       "      <td>NoImgsForVectorFeatureFoundError('No images fo...</td>\n",
       "      <td>football</td>\n",
       "      <td>POLYGON Z ((11.52913 48.16874 0.00000, 11.5291...</td>\n",
       "    </tr>\n",
       "    <tr>\n",
       "      <th>Vasil Levski National Stadium</th>\n",
       "      <td>2</td>\n",
       "      <td>Sofia, Bulgaria</td>\n",
       "      <td>NoImgsForVectorFeatureFoundError('No images fo...</td>\n",
       "      <td>football</td>\n",
       "      <td>POLYGON Z ((23.33410 42.68813 0.00000, 23.3340...</td>\n",
       "    </tr>\n",
       "    <tr>\n",
       "      <th>Bulgarian Army Stadium</th>\n",
       "      <td>2</td>\n",
       "      <td>Sofia, Bulgaria</td>\n",
       "      <td>NoImgsForVectorFeatureFoundError('No images fo...</td>\n",
       "      <td>football</td>\n",
       "      <td>POLYGON Z ((23.34065 42.68492 0.00000, 23.3406...</td>\n",
       "    </tr>\n",
       "    <tr>\n",
       "      <th>Arena Sofia</th>\n",
       "      <td>2</td>\n",
       "      <td>Sofia, Bulgaria</td>\n",
       "      <td>NoImgsForVectorFeatureFoundError('No images fo...</td>\n",
       "      <td>football</td>\n",
       "      <td>POLYGON Z ((23.34018 42.68318 0.00000, 23.3401...</td>\n",
       "    </tr>\n",
       "    <tr>\n",
       "      <th>Jingu Baseball Stadium</th>\n",
       "      <td>2</td>\n",
       "      <td>Tokyo, Japan</td>\n",
       "      <td>NoImgsForVectorFeatureFoundError('No images fo...</td>\n",
       "      <td>baseball</td>\n",
       "      <td>POLYGON Z ((139.71597 35.67490 0.00000, 139.71...</td>\n",
       "    </tr>\n",
       "    <tr>\n",
       "      <th>Japan National Stadium</th>\n",
       "      <td>2</td>\n",
       "      <td>Tokyo, Japan</td>\n",
       "      <td>NoImgsForVectorFeatureFoundError('No images fo...</td>\n",
       "      <td>football</td>\n",
       "      <td>POLYGON Z ((139.71482 35.67644 0.00000, 139.71...</td>\n",
       "    </tr>\n",
       "  </tbody>\n",
       "</table>\n",
       "</div>"
      ],
      "text/plain": [
       "                                      raster_count         location  \\\n",
       "vector_name                                                           \n",
       "Munich Olympiastadion                            3  Munich, Germany   \n",
       "Munich Track and Field Stadium1                  3  Munich, Germany   \n",
       "Munich Olympia Track and Field2                  2  Munich, Germany   \n",
       "Munich Staedtisches Stadion Dantestr             2  Munich, Germany   \n",
       "Vasil Levski National Stadium                    2  Sofia, Bulgaria   \n",
       "Bulgarian Army Stadium                           2  Sofia, Bulgaria   \n",
       "Arena Sofia                                      2  Sofia, Bulgaria   \n",
       "Jingu Baseball Stadium                           2     Tokyo, Japan   \n",
       "Japan National Stadium                           2     Tokyo, Japan   \n",
       "\n",
       "                                                                     download_exception  \\\n",
       "vector_name                                                                               \n",
       "Munich Olympiastadion                 NoImgsForVectorFeatureFoundError('No images fo...   \n",
       "Munich Track and Field Stadium1       NoImgsForVectorFeatureFoundError('No images fo...   \n",
       "Munich Olympia Track and Field2       NoImgsForVectorFeatureFoundError('No images fo...   \n",
       "Munich Staedtisches Stadion Dantestr  NoImgsForVectorFeatureFoundError('No images fo...   \n",
       "Vasil Levski National Stadium         NoImgsForVectorFeatureFoundError('No images fo...   \n",
       "Bulgarian Army Stadium                NoImgsForVectorFeatureFoundError('No images fo...   \n",
       "Arena Sofia                           NoImgsForVectorFeatureFoundError('No images fo...   \n",
       "Jingu Baseball Stadium                NoImgsForVectorFeatureFoundError('No images fo...   \n",
       "Japan National Stadium                NoImgsForVectorFeatureFoundError('No images fo...   \n",
       "\n",
       "                                          type  \\\n",
       "vector_name                                      \n",
       "Munich Olympiastadion                 football   \n",
       "Munich Track and Field Stadium1       football   \n",
       "Munich Olympia Track and Field2       football   \n",
       "Munich Staedtisches Stadion Dantestr  football   \n",
       "Vasil Levski National Stadium         football   \n",
       "Bulgarian Army Stadium                football   \n",
       "Arena Sofia                           football   \n",
       "Jingu Baseball Stadium                baseball   \n",
       "Japan National Stadium                football   \n",
       "\n",
       "                                                                               geometry  \n",
       "vector_name                                                                              \n",
       "Munich Olympiastadion                 POLYGON Z ((11.54677 48.17472 0.00000, 11.5446...  \n",
       "Munich Track and Field Stadium1       POLYGON Z ((11.54382 48.17279 0.00000, 11.5438...  \n",
       "Munich Olympia Track and Field2       POLYGON Z ((11.54686 48.17892 0.00000, 11.5468...  \n",
       "Munich Staedtisches Stadion Dantestr  POLYGON Z ((11.52913 48.16874 0.00000, 11.5291...  \n",
       "Vasil Levski National Stadium         POLYGON Z ((23.33410 42.68813 0.00000, 23.3340...  \n",
       "Bulgarian Army Stadium                POLYGON Z ((23.34065 42.68492 0.00000, 23.3406...  \n",
       "Arena Sofia                           POLYGON Z ((23.34018 42.68318 0.00000, 23.3401...  \n",
       "Jingu Baseball Stadium                POLYGON Z ((139.71597 35.67490 0.00000, 139.71...  \n",
       "Japan National Stadium                POLYGON Z ((139.71482 35.67644 0.00000, 139.71...  "
      ]
     },
     "execution_count": 41,
     "metadata": {},
     "output_type": "execute_result"
    }
   ],
   "source": [
    "truncated_target_connector = Connector.from_data_dir(TARGET_DATA_DIR2)\n",
    "truncated_target_connector.vectors"
   ]
  },
  {
   "cell_type": "code",
   "execution_count": 42,
   "metadata": {},
   "outputs": [
    {
     "data": {
      "text/html": [
       "<div>\n",
       "<style scoped>\n",
       "    .dataframe tbody tr th:only-of-type {\n",
       "        vertical-align: middle;\n",
       "    }\n",
       "\n",
       "    .dataframe tbody tr th {\n",
       "        vertical-align: top;\n",
       "    }\n",
       "\n",
       "    .dataframe thead th {\n",
       "        text-align: right;\n",
       "    }\n",
       "</style>\n",
       "<table border=\"1\" class=\"dataframe\">\n",
       "  <thead>\n",
       "    <tr style=\"text-align: right;\">\n",
       "      <th></th>\n",
       "      <th>raster_processed?</th>\n",
       "      <th>timestamp</th>\n",
       "      <th>orig_crs_epsg_code</th>\n",
       "      <th>geometry</th>\n",
       "    </tr>\n",
       "    <tr>\n",
       "      <th>raster_name</th>\n",
       "      <th></th>\n",
       "      <th></th>\n",
       "      <th></th>\n",
       "      <th></th>\n",
       "    </tr>\n",
       "  </thead>\n",
       "  <tbody>\n",
       "    <tr>\n",
       "      <th>S2A_MSIL2A_20220627T100611_N0400_R022_T32UPU_20220627T162810_Munich Olympiastadion.tif</th>\n",
       "      <td>1</td>\n",
       "      <td>2022-06-27-10:06:11</td>\n",
       "      <td>32632</td>\n",
       "      <td>POLYGON ((11.58895 48.14840, 11.58895 48.19594...</td>\n",
       "    </tr>\n",
       "    <tr>\n",
       "      <th>S2B_MSIL2A_20220804T101559_N0400_R065_T32UPU_20220804T130854_Munich Olympiastadion.tif</th>\n",
       "      <td>1</td>\n",
       "      <td>2022-08-04-10:15:59</td>\n",
       "      <td>32632</td>\n",
       "      <td>POLYGON ((11.56448 48.17054, 11.56448 48.21807...</td>\n",
       "    </tr>\n",
       "    <tr>\n",
       "      <th>S2B_MSIL2A_20220804T101559_N0400_R065_T32UPU_20220804T130854_Munich Staedtisches Stadion Dantestr.tif</th>\n",
       "      <td>1</td>\n",
       "      <td>2022-08-04-10:15:59</td>\n",
       "      <td>32632</td>\n",
       "      <td>POLYGON ((11.56403 48.12907, 11.56403 48.17660...</td>\n",
       "    </tr>\n",
       "    <tr>\n",
       "      <th>S2A_MSIL2A_20220413T092031_N0400_R093_T34TFN_20220413T123632_Vasil Levski National Stadium.tif</th>\n",
       "      <td>1</td>\n",
       "      <td>2022-04-13-09:20:31</td>\n",
       "      <td>32634</td>\n",
       "      <td>POLYGON ((23.37083 42.68422, 23.37083 42.73156...</td>\n",
       "    </tr>\n",
       "    <tr>\n",
       "      <th>S2A_MSIL2A_20220722T092041_N0400_R093_T34TFN_20220722T134859_Vasil Levski National Stadium.tif</th>\n",
       "      <td>1</td>\n",
       "      <td>2022-07-22-09:20:41</td>\n",
       "      <td>32634</td>\n",
       "      <td>POLYGON ((23.35795 42.66350, 23.35795 42.71084...</td>\n",
       "    </tr>\n",
       "    <tr>\n",
       "      <th>S2A_MSIL2A_20220413T092031_N0400_R093_T34TFN_20220413T123632_Bulgarian Army Stadium.tif</th>\n",
       "      <td>1</td>\n",
       "      <td>2022-04-13-09:20:31</td>\n",
       "      <td>32634</td>\n",
       "      <td>POLYGON ((23.40157 42.67061, 23.40157 42.71797...</td>\n",
       "    </tr>\n",
       "    <tr>\n",
       "      <th>S2A_MSIL2A_20220412T012701_N0400_R074_T54SUE_20220412T042315_Jingu Baseball Stadium.tif</th>\n",
       "      <td>1</td>\n",
       "      <td>2022-04-12-01:27:01</td>\n",
       "      <td>32654</td>\n",
       "      <td>POLYGON ((139.76736 35.65410, 139.76736 35.700...</td>\n",
       "    </tr>\n",
       "    <tr>\n",
       "      <th>S2A_MSIL2A_20220701T012711_N0400_R074_T54SUE_20220701T043318_Jingu Baseball Stadium.tif</th>\n",
       "      <td>1</td>\n",
       "      <td>2022-07-01-01:27:11</td>\n",
       "      <td>32654</td>\n",
       "      <td>POLYGON ((139.75258 35.66693, 139.75258 35.713...</td>\n",
       "    </tr>\n",
       "  </tbody>\n",
       "</table>\n",
       "</div>"
      ],
      "text/plain": [
       "                                                    raster_processed?  \\\n",
       "raster_name                                                             \n",
       "S2A_MSIL2A_20220627T100611_N0400_R022_T32UPU_20...                  1   \n",
       "S2B_MSIL2A_20220804T101559_N0400_R065_T32UPU_20...                  1   \n",
       "S2B_MSIL2A_20220804T101559_N0400_R065_T32UPU_20...                  1   \n",
       "S2A_MSIL2A_20220413T092031_N0400_R093_T34TFN_20...                  1   \n",
       "S2A_MSIL2A_20220722T092041_N0400_R093_T34TFN_20...                  1   \n",
       "S2A_MSIL2A_20220413T092031_N0400_R093_T34TFN_20...                  1   \n",
       "S2A_MSIL2A_20220412T012701_N0400_R074_T54SUE_20...                  1   \n",
       "S2A_MSIL2A_20220701T012711_N0400_R074_T54SUE_20...                  1   \n",
       "\n",
       "                                                              timestamp  \\\n",
       "raster_name                                                               \n",
       "S2A_MSIL2A_20220627T100611_N0400_R022_T32UPU_20...  2022-06-27-10:06:11   \n",
       "S2B_MSIL2A_20220804T101559_N0400_R065_T32UPU_20...  2022-08-04-10:15:59   \n",
       "S2B_MSIL2A_20220804T101559_N0400_R065_T32UPU_20...  2022-08-04-10:15:59   \n",
       "S2A_MSIL2A_20220413T092031_N0400_R093_T34TFN_20...  2022-04-13-09:20:31   \n",
       "S2A_MSIL2A_20220722T092041_N0400_R093_T34TFN_20...  2022-07-22-09:20:41   \n",
       "S2A_MSIL2A_20220413T092031_N0400_R093_T34TFN_20...  2022-04-13-09:20:31   \n",
       "S2A_MSIL2A_20220412T012701_N0400_R074_T54SUE_20...  2022-04-12-01:27:01   \n",
       "S2A_MSIL2A_20220701T012711_N0400_R074_T54SUE_20...  2022-07-01-01:27:11   \n",
       "\n",
       "                                                    orig_crs_epsg_code  \\\n",
       "raster_name                                                              \n",
       "S2A_MSIL2A_20220627T100611_N0400_R022_T32UPU_20...               32632   \n",
       "S2B_MSIL2A_20220804T101559_N0400_R065_T32UPU_20...               32632   \n",
       "S2B_MSIL2A_20220804T101559_N0400_R065_T32UPU_20...               32632   \n",
       "S2A_MSIL2A_20220413T092031_N0400_R093_T34TFN_20...               32634   \n",
       "S2A_MSIL2A_20220722T092041_N0400_R093_T34TFN_20...               32634   \n",
       "S2A_MSIL2A_20220413T092031_N0400_R093_T34TFN_20...               32634   \n",
       "S2A_MSIL2A_20220412T012701_N0400_R074_T54SUE_20...               32654   \n",
       "S2A_MSIL2A_20220701T012711_N0400_R074_T54SUE_20...               32654   \n",
       "\n",
       "                                                                                             geometry  \n",
       "raster_name                                                                                            \n",
       "S2A_MSIL2A_20220627T100611_N0400_R022_T32UPU_20...  POLYGON ((11.58895 48.14840, 11.58895 48.19594...  \n",
       "S2B_MSIL2A_20220804T101559_N0400_R065_T32UPU_20...  POLYGON ((11.56448 48.17054, 11.56448 48.21807...  \n",
       "S2B_MSIL2A_20220804T101559_N0400_R065_T32UPU_20...  POLYGON ((11.56403 48.12907, 11.56403 48.17660...  \n",
       "S2A_MSIL2A_20220413T092031_N0400_R093_T34TFN_20...  POLYGON ((23.37083 42.68422, 23.37083 42.73156...  \n",
       "S2A_MSIL2A_20220722T092041_N0400_R093_T34TFN_20...  POLYGON ((23.35795 42.66350, 23.35795 42.71084...  \n",
       "S2A_MSIL2A_20220413T092031_N0400_R093_T34TFN_20...  POLYGON ((23.40157 42.67061, 23.40157 42.71797...  \n",
       "S2A_MSIL2A_20220412T012701_N0400_R074_T54SUE_20...  POLYGON ((139.76736 35.65410, 139.76736 35.700...  \n",
       "S2A_MSIL2A_20220701T012711_N0400_R074_T54SUE_20...  POLYGON ((139.75258 35.66693, 139.75258 35.713...  "
      ]
     },
     "execution_count": 42,
     "metadata": {},
     "output_type": "execute_result"
    }
   ],
   "source": [
    "truncated_target_connector.rasters"
   ]
  },
  {
   "cell_type": "markdown",
   "metadata": {},
   "source": [
    "If we want to, we can now check that the truncated target dataset has been updated correctly."
   ]
  },
  {
   "cell_type": "markdown",
   "metadata": {},
   "source": [
    "## 4. Creating a train/val split\n",
    "\n",
    "To train a ML model it is essential to have a clean train/val split.\n",
    "If you just naively split your rasters into a train and a validation set\n",
    "there might be data leakage. Some vector features might intersect\n",
    "several rasters. Also, rasters can overlap and there might be vector\n",
    "features in the overlaps. GeoGrapher provides a function `get_raster_clusters`\n",
    "that returns the minimal clusters of rasters such that if all rasters in each\n",
    "cluster are assigned to the same dataset (training or validation) the resulting\n",
    "split has no data leakage."
   ]
  },
  {
   "cell_type": "code",
   "execution_count": 43,
   "metadata": {},
   "outputs": [
    {
     "data": {
      "text/plain": [
       "[{'S2A_MSIL2A_20220627T100611_N0400_R022_T32UPU_20220627T162810.tif',\n",
       "  'S2B_MSIL2A_20220804T101559_N0400_R065_T32UPU_20220804T130854.tif'},\n",
       " {'S2A_MSIL2A_20220413T092031_N0400_R093_T34TFN_20220413T123632.tif',\n",
       "  'S2A_MSIL2A_20220722T092041_N0400_R093_T34TFN_20220722T134859.tif'},\n",
       " {'S2A_MSIL2A_20220412T012701_N0400_R074_T54SUE_20220412T042315.tif',\n",
       "  'S2A_MSIL2A_20220701T012711_N0400_R074_T54SUE_20220701T043318.tif'}]"
      ]
     },
     "execution_count": 43,
     "metadata": {},
     "output_type": "execute_result"
    }
   ],
   "source": [
    "from __future__ import annotations\n",
    "\n",
    "from geographer.utils.cluster_rasters import get_raster_clusters\n",
    "\n",
    "clusters: list[set[str]] = get_raster_clusters(\n",
    "    connector=connector,\n",
    "    clusters_defined_by=\"rasters_that_share_vectors\",\n",
    "    preclustering_method=\"y then x-axis\",\n",
    ")\n",
    "clusters"
   ]
  },
  {
   "cell_type": "markdown",
   "metadata": {},
   "source": [
    "As one might expect the clusters correspond to the different locations in our dataset: Munich, Tokyo, Sofia."
   ]
  }
 ],
 "metadata": {
  "kernelspec": {
   "display_name": "Python 3.10.4 ('geographer-env': venv)",
   "language": "python",
   "name": "python3"
  },
  "language_info": {
   "codemirror_mode": {
    "name": "ipython",
    "version": 3
   },
   "file_extension": ".py",
   "mimetype": "text/x-python",
   "name": "python",
   "nbconvert_exporter": "python",
   "pygments_lexer": "ipython3",
   "version": "3.10.6"
  },
  "orig_nbformat": 4,
  "vscode": {
   "interpreter": {
    "hash": "417695322628ebe4d15024c42edb1a1ecd50032de54e997d6970bb3b2684b0d2"
   }
  }
 },
 "nbformat": 4,
 "nbformat_minor": 2
}
